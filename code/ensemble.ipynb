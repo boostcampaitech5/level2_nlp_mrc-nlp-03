{
 "cells": [
  {
   "cell_type": "code",
   "execution_count": 1,
   "id": "c3b5b76c-e380-4728-964f-cb0ccf7a7472",
   "metadata": {},
   "outputs": [],
   "source": [
    "import os\n",
    "import json\n",
    "from collections import defaultdict, Counter"
   ]
  },
  {
   "attachments": {},
   "cell_type": "markdown",
   "id": "903bc257",
   "metadata": {},
   "source": [
    "# 1️⃣ Ensemble by Soft Voting"
   ]
  },
  {
   "attachments": {},
   "cell_type": "markdown",
   "id": "bbbb8cb5",
   "metadata": {},
   "source": [
    "### 💡 soft voting ensemble code 구현 방법\n",
    "1. 앙상블 할 `nbest_prediction.json` 파일을 하나의 폴더(`ex.\"./soft_voting\"`) 에 저장\n",
    "    - 이때 각 모델의 topk 값은 달라도 상관 없음\n",
    "<br><br>\n",
    "\n",
    "2. `prediction.json` id를 key 갖는 dictionaryf를 2개 생성\n",
    "    - `dictionary 1` : key에 대한 value를 list로 생성. 이때 앙상블 할 nbest 파일에서 나오는 모든 (\"text\", \"probability\")쌍을 list의 개별 원소로 저장\n",
    "    - `dictionary 2` : 최종 답안을 저장할 dictionary. 추후 json 파일로 저장됨\n",
    "<br><br>\n",
    "\n",
    "3. `dictionary 1`에서 중복되는 \"text\"에 대한 \"probability\"를 더하여 \"text\" 하나에 대해 하나의 \"probability\"만 갖도록 한 후,<br> 새롭게 생성된 \"probability\" 값 중 가장 큰 값에 해당하는 \"text\"만 저장하여 최종 답안 생성\n"
   ]
  },
  {
   "cell_type": "code",
   "execution_count": 12,
   "id": "600dabd7-e45a-482d-9013-55f6ebdf275a",
   "metadata": {
    "tags": []
   },
   "outputs": [],
   "source": [
    "file_path ='./soft_voting' # 앙상블 할 nbest_predictions.json 파일들이 저장된 폴더 경로\n",
    "\n",
    "json_file_path = []\n",
    "json_files=[]\n",
    "\n",
    "for json_path in os.listdir(file_path):\n",
    "    if json_path.endswith('.json'): # json file 만 가져오기\n",
    "        json_file_path.append(json_path)\n",
    "\n",
    "for file in json_file_path:\n",
    "    fp=os.path.join(file_path,file)\n",
    "    with open(fp,\"r\",encoding='utf-8') as json_file:\n",
    "        json_data=json.load(json_file)\n",
    "        json_files.append(json_data)"
   ]
  },
  {
   "cell_type": "code",
   "execution_count": 3,
   "id": "06f8e266",
   "metadata": {},
   "outputs": [
    {
     "name": "stdout",
     "output_type": "stream",
     "text": [
      "['nbest_predictions(2).json', 'nbest_predictions(3).json', 'nbest_predictions(1).json']\n"
     ]
    }
   ],
   "source": [
    "# 파일이름 리스트 출력\n",
    "print(json_file_path)"
   ]
  },
  {
   "cell_type": "code",
   "execution_count": 4,
   "id": "4fcd8974-976b-4b00-a1ef-56fa5a681b67",
   "metadata": {},
   "outputs": [],
   "source": [
    "key_list = list(json_files[0].keys() )# predictions에 들어가는 id 불러오기\n",
    "candidates = defaultdict(list) # 모든 (\"text\", \"probability\") 쌍 저장할 dictionary (value : list 형태) \n",
    "answer_dict = defaultdict(list) # 최종 답변을 넣을 dict 생성 -> value : list"
   ]
  },
  {
   "cell_type": "code",
   "execution_count": 5,
   "id": "0de7ed4a",
   "metadata": {},
   "outputs": [],
   "source": [
    "# json file에서 각 value의 가장 첫번째 값이 {} -> {}를 제거하는 코드\n",
    "for json_file in json_files:\n",
    "    for key in key_list:\n",
    "        json_file[key] = json_file[key][1:]"
   ]
  },
  {
   "cell_type": "code",
   "execution_count": 6,
   "id": "91529b5f",
   "metadata": {},
   "outputs": [],
   "source": [
    "for key in key_list:\n",
    "    candidates[key]\n",
    "    answer_dict[key]\n",
    "\n",
    "for json_file in json_files:\n",
    "    for key in key_list: # key example : \"mrc-1-000653\"\n",
    "        for i in range(len(json_file[key])): # len(json_file[key]) : 각 실험에서 topk 설정 값\n",
    "            candidates[key].append((json_file[key][i]['text'], json_file[key][i]['probability'])) # 모든 (\"text\", \"probability\")쌍 저장\n",
    "            # 후처리 함수를 적용하여 사실상 같은 답안에 대해 더 높은 점수를 주는 것도 좋을 듯"
   ]
  },
  {
   "cell_type": "code",
   "execution_count": 7,
   "id": "a3f45a28-28f4-47dc-915d-46505f6d5730",
   "metadata": {},
   "outputs": [],
   "source": [
    "for key in key_list:\n",
    "    new_candidates = {} # text : probability\n",
    "    for i in range(len(candidates[key])):                \n",
    "        if candidates[key][i][0] not in new_candidates.keys():   # new_candidates에 없는 text 라면 새로 추가\n",
    "            new_candidates[candidates[key][i][0]]=candidates[key][i][1]\n",
    "        else:\n",
    "            new_candidates[candidates[key][i][0]]+=candidates[key][i][1] # new_candidates에 없는 text 라면 기존 확률값에 더해주기 \n",
    "    final_answer = max(new_candidates.keys(), key = lambda x: new_candidates[x]) # 최대 확률값에 해당하는 text를 최종 정답으로 저장\n",
    "    answer_dict[key] = final_answer"
   ]
  },
  {
   "cell_type": "code",
   "execution_count": 8,
   "id": "cc48902c-5b23-4907-895e-1ec52f6a16d5",
   "metadata": {},
   "outputs": [],
   "source": [
    "new_nbest_json_path = \"softvoted_prediction.json\"\n",
    "\n",
    "with open(new_nbest_json_path, \"w\", encoding=\"utf-8\") as writer:\n",
    "    writer.write(\n",
    "    json.dumps(answer_dict, indent=4, ensure_ascii=False) + \"\\n\"\n",
    "    )"
   ]
  },
  {
   "attachments": {},
   "cell_type": "markdown",
   "id": "73d72472",
   "metadata": {},
   "source": [
    "# 2️⃣ Ensemble by Hard Voting"
   ]
  },
  {
   "attachments": {},
   "cell_type": "markdown",
   "id": "151433c4",
   "metadata": {},
   "source": [
    "### 💡hard voting ensemble code 구현 방법\n",
    "1. 앙상블 할 `prediction.json` 파일을 하나의 폴더(`ex.\"./hard_voting\"`) 에 저장\n",
    "<br><br>\n",
    "\n",
    "2. `prediction.json` id를 key 갖는 dictionaryf를 2개 생성\n",
    "    - `dictionary 1` : key에 대한 value를 list로 생성. 이때 앙상블 할 prediction 파일에서 나오는 모든 정답을 리스트로 저장\n",
    "    - `dictionary 2` : 최종 답안을 저장할 dictionary. 추후 json 파일로 저장됨\n",
    "<br><br>\n",
    "\n",
    "3. `dictionary 1`의 value 리스트에서 등장한 단어의 빈도수를 계산하여, 가장 많이 등장한 단어를 최종 답안으로<br> 다만 아직 most_common 아이템이 여러개일 경우 어떤 것을 정답으로 가져갈지는 구현이 잘 안되어있음(무조건 첫번째 값을 반환)\n"
   ]
  },
  {
   "cell_type": "code",
   "execution_count": 9,
   "id": "3df2e3e4",
   "metadata": {},
   "outputs": [],
   "source": [
    "file_path ='./hard_voting' # 앙상블 할 predictions.json 파일들이 저장된 폴더 경로\n",
    "\n",
    "json_file_path = []\n",
    "json_files=[]\n",
    "\n",
    "for json_path in os.listdir(file_path):\n",
    "    if json_path.endswith('.json'): # json file 만 가져오기\n",
    "        json_file_path.append(json_path)\n",
    "\n",
    "for file in json_file_path:\n",
    "    fp=os.path.join(file_path,file)\n",
    "    with open(fp,\"r\",encoding='utf-8') as json_file:\n",
    "        json_data=json.load(json_file)\n",
    "        json_files.append(json_data)\n"
   ]
  },
  {
   "cell_type": "code",
   "execution_count": 10,
   "id": "4e315471",
   "metadata": {},
   "outputs": [],
   "source": [
    "candidates=defaultdict(list) \n",
    "answer_dict = defaultdict(list)\n",
    "\n",
    "for key in key_list:\n",
    "    candidates[key]\n",
    "    answer_dict[key]\n",
    "\n",
    "for json_file in json_files:\n",
    "    for key in key_list:\n",
    "        candidates[key].append(json_file[key])\n"
   ]
  },
  {
   "cell_type": "code",
   "execution_count": null,
   "id": "64beec32",
   "metadata": {},
   "outputs": [],
   "source": [
    "for key in candidates.keys():\n",
    "    common = Counter(candidates[key]).most_common()\n",
    "    answer_dict[key] = common[0][0] # most common이 1개가 아닐경우?"
   ]
  },
  {
   "cell_type": "code",
   "execution_count": 11,
   "id": "dbe312de",
   "metadata": {},
   "outputs": [],
   "source": [
    "new_nbest_json_path = \"hardvoted_prediction.json\"\n",
    "\n",
    "with open(new_nbest_json_path, \"w\", encoding=\"utf-8\") as writer:\n",
    "    writer.write(\n",
    "    json.dumps(answer_dict, indent=4, ensure_ascii=False) + \"\\n\"\n",
    "    )"
   ]
  }
 ],
 "metadata": {
  "kernelspec": {
   "display_name": "Python 3",
   "language": "python",
   "name": "python3"
  },
  "language_info": {
   "codemirror_mode": {
    "name": "ipython",
    "version": 3
   },
   "file_extension": ".py",
   "mimetype": "text/x-python",
   "name": "python",
   "nbconvert_exporter": "python",
   "pygments_lexer": "ipython3",
   "version": "3.10.11"
  }
 },
 "nbformat": 4,
 "nbformat_minor": 5
}
