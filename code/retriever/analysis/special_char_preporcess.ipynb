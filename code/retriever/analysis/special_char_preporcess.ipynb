{
 "cells": [
  {
   "attachments": {},
   "cell_type": "markdown",
   "metadata": {},
   "source": [
    "# Load Dataset"
   ]
  },
  {
   "cell_type": "code",
   "execution_count": 1,
   "metadata": {},
   "outputs": [
    {
     "name": "stderr",
     "output_type": "stream",
     "text": [
      "/opt/conda/envs/mrc/lib/python3.10/site-packages/tqdm/auto.py:21: TqdmWarning: IProgress not found. Please update jupyter and ipywidgets. See https://ipywidgets.readthedocs.io/en/stable/user_install.html\n",
      "  from .autonotebook import tqdm as notebook_tqdm\n"
     ]
    }
   ],
   "source": [
    "from datasets import load_dataset, load_from_disk\n",
    "import json \n",
    "import pandas as pd\n",
    "import re"
   ]
  },
  {
   "attachments": {},
   "cell_type": "markdown",
   "metadata": {},
   "source": [
    "## train/test dataset"
   ]
  },
  {
   "cell_type": "code",
   "execution_count": 2,
   "metadata": {},
   "outputs": [],
   "source": [
    "dataset = load_from_disk('../../../data/train_dataset')\n",
    "train_dataset = dataset['train']\n",
    "val_dataset = dataset['validation']"
   ]
  },
  {
   "cell_type": "code",
   "execution_count": 3,
   "metadata": {},
   "outputs": [],
   "source": [
    "test_dataset = load_from_disk('../../../data/test_dataset')\n",
    "test_dataset = test_dataset['validation']"
   ]
  },
  {
   "attachments": {},
   "cell_type": "markdown",
   "metadata": {},
   "source": [
    "## Wiki dataset"
   ]
  },
  {
   "cell_type": "code",
   "execution_count": 4,
   "metadata": {},
   "outputs": [],
   "source": [
    "wiki_path = '../../../data/wikipedia_documents.json'\n",
    "with open(wiki_path, 'r',encoding='utf-8') as f:\n",
    "    wiki = json.load(f)"
   ]
  },
  {
   "cell_type": "code",
   "execution_count": 5,
   "metadata": {},
   "outputs": [],
   "source": [
    "wiki_df = pd.DataFrame(wiki).T\n",
    "wiki_text = list(wiki_df.text)"
   ]
  },
  {
   "cell_type": "code",
   "execution_count": 6,
   "metadata": {},
   "outputs": [],
   "source": [
    "def find_special_characters(data):\n",
    "    pattern = r'[^\\w\\sㄱ-ㅎㅏ-ㅣ가-힣]'  # 영숫자, 공백, 한글이 아닌 모든 문자를 찾는 패턴\n",
    "    special_chars = re.findall(pattern, data)\n",
    "    # return special_chars\n",
    "    return list(set(special_chars))"
   ]
  },
  {
   "cell_type": "code",
   "execution_count": 7,
   "metadata": {},
   "outputs": [
    {
     "name": "stdout",
     "output_type": "stream",
     "text": [
      "45857676\n",
      "45857676\n"
     ]
    }
   ],
   "source": [
    "wiki_doc = ' '.join(wiki_text)\n",
    "print(len(wiki_doc))\n",
    "print(sum([len(text) for text in wiki_text]) + len(wiki_text) -1)"
   ]
  },
  {
   "cell_type": "code",
   "execution_count": 8,
   "metadata": {},
   "outputs": [],
   "source": [
    "special_character = find_special_characters(wiki_doc)"
   ]
  },
  {
   "attachments": {},
   "cell_type": "markdown",
   "metadata": {},
   "source": [
    "# 특수문자 확인"
   ]
  },
  {
   "cell_type": "code",
   "execution_count": 9,
   "metadata": {},
   "outputs": [
    {
     "data": {
      "text/html": [
       "<div>\n",
       "<style scoped>\n",
       "    .dataframe tbody tr th:only-of-type {\n",
       "        vertical-align: middle;\n",
       "    }\n",
       "\n",
       "    .dataframe tbody tr th {\n",
       "        vertical-align: top;\n",
       "    }\n",
       "\n",
       "    .dataframe thead th {\n",
       "        text-align: right;\n",
       "    }\n",
       "</style>\n",
       "<table border=\"1\" class=\"dataframe\">\n",
       "  <thead>\n",
       "    <tr style=\"text-align: right;\">\n",
       "      <th></th>\n",
       "      <th>title</th>\n",
       "      <th>context</th>\n",
       "      <th>question</th>\n",
       "      <th>id</th>\n",
       "      <th>answers</th>\n",
       "      <th>document_id</th>\n",
       "      <th>__index_level_0__</th>\n",
       "    </tr>\n",
       "  </thead>\n",
       "  <tbody>\n",
       "    <tr>\n",
       "      <th>0</th>\n",
       "      <td>미국 상원</td>\n",
       "      <td>미국 상의원 또는 미국 상원(United States Senate)은 양원제인 미국...</td>\n",
       "      <td>대통령을 포함한 미국의 행정부 견제권을 갖는 국가 기관은?</td>\n",
       "      <td>mrc-1-000067</td>\n",
       "      <td>{'answer_start': [235], 'text': ['하원']}</td>\n",
       "      <td>18293</td>\n",
       "      <td>42</td>\n",
       "    </tr>\n",
       "    <tr>\n",
       "      <th>1</th>\n",
       "      <td>인사조직관리</td>\n",
       "      <td>'근대적 경영학' 또는 '고전적 경영학'에서 현대적 경영학으로 전환되는 시기는 19...</td>\n",
       "      <td>현대적 인사조직관리의 시발점이 된 책은?</td>\n",
       "      <td>mrc-0-004397</td>\n",
       "      <td>{'answer_start': [212], 'text': ['《경영의 실제》']}</td>\n",
       "      <td>51638</td>\n",
       "      <td>2873</td>\n",
       "    </tr>\n",
       "    <tr>\n",
       "      <th>2</th>\n",
       "      <td>강희제</td>\n",
       "      <td>강희제는 강화된 황권으로 거의 황제 중심의 독단적으로 나라를 이끌어 갔기에 자칫 전...</td>\n",
       "      <td>강희제가 1717년에 쓴 글은 누구를 위해 쓰여졌는가?</td>\n",
       "      <td>mrc-1-000362</td>\n",
       "      <td>{'answer_start': [510], 'text': ['백성']}</td>\n",
       "      <td>5028</td>\n",
       "      <td>230</td>\n",
       "    </tr>\n",
       "    <tr>\n",
       "      <th>3</th>\n",
       "      <td>금동삼존불감</td>\n",
       "      <td>불상을 모시기 위해 나무나 돌, 쇠 등을 깎아 일반적인 건축물보다 작은 규모로 만든...</td>\n",
       "      <td>11~12세기에 제작된 본존불은 보통 어떤 나라의 특징이 전파되었나요?</td>\n",
       "      <td>mrc-0-001510</td>\n",
       "      <td>{'answer_start': [625], 'text': ['중국']}</td>\n",
       "      <td>34146</td>\n",
       "      <td>992</td>\n",
       "    </tr>\n",
       "    <tr>\n",
       "      <th>4</th>\n",
       "      <td>계사명 사리구</td>\n",
       "      <td>동아대학교박물관에서 소장하고 있는 계사명 사리구는 총 4개의 용기로 구성된 조선후기...</td>\n",
       "      <td>명문이 적힌 유물을 구성하는 그릇의 총 개수는?</td>\n",
       "      <td>mrc-0-000823</td>\n",
       "      <td>{'answer_start': [30], 'text': ['4개']}</td>\n",
       "      <td>47334</td>\n",
       "      <td>548</td>\n",
       "    </tr>\n",
       "  </tbody>\n",
       "</table>\n",
       "</div>"
      ],
      "text/plain": [
       "     title                                            context  \\\n",
       "0    미국 상원  미국 상의원 또는 미국 상원(United States Senate)은 양원제인 미국...   \n",
       "1   인사조직관리  '근대적 경영학' 또는 '고전적 경영학'에서 현대적 경영학으로 전환되는 시기는 19...   \n",
       "2      강희제  강희제는 강화된 황권으로 거의 황제 중심의 독단적으로 나라를 이끌어 갔기에 자칫 전...   \n",
       "3   금동삼존불감  불상을 모시기 위해 나무나 돌, 쇠 등을 깎아 일반적인 건축물보다 작은 규모로 만든...   \n",
       "4  계사명 사리구  동아대학교박물관에서 소장하고 있는 계사명 사리구는 총 4개의 용기로 구성된 조선후기...   \n",
       "\n",
       "                                  question            id  \\\n",
       "0         대통령을 포함한 미국의 행정부 견제권을 갖는 국가 기관은?  mrc-1-000067   \n",
       "1                   현대적 인사조직관리의 시발점이 된 책은?  mrc-0-004397   \n",
       "2           강희제가 1717년에 쓴 글은 누구를 위해 쓰여졌는가?  mrc-1-000362   \n",
       "3  11~12세기에 제작된 본존불은 보통 어떤 나라의 특징이 전파되었나요?  mrc-0-001510   \n",
       "4               명문이 적힌 유물을 구성하는 그릇의 총 개수는?  mrc-0-000823   \n",
       "\n",
       "                                         answers  document_id  \\\n",
       "0        {'answer_start': [235], 'text': ['하원']}        18293   \n",
       "1  {'answer_start': [212], 'text': ['《경영의 실제》']}        51638   \n",
       "2        {'answer_start': [510], 'text': ['백성']}         5028   \n",
       "3        {'answer_start': [625], 'text': ['중국']}        34146   \n",
       "4         {'answer_start': [30], 'text': ['4개']}        47334   \n",
       "\n",
       "   __index_level_0__  \n",
       "0                 42  \n",
       "1               2873  \n",
       "2                230  \n",
       "3                992  \n",
       "4                548  "
      ]
     },
     "execution_count": 9,
     "metadata": {},
     "output_type": "execute_result"
    }
   ],
   "source": [
    "total_train_df = pd.DataFrame(train_dataset)\n",
    "total_train_df = pd.concat([total_train_df, pd.DataFrame(val_dataset)]).reset_index(drop=True)\n",
    "total_train_df.head()"
   ]
  },
  {
   "cell_type": "code",
   "execution_count": 10,
   "metadata": {},
   "outputs": [
    {
     "data": {
      "text/html": [
       "<div>\n",
       "<style scoped>\n",
       "    .dataframe tbody tr th:only-of-type {\n",
       "        vertical-align: middle;\n",
       "    }\n",
       "\n",
       "    .dataframe tbody tr th {\n",
       "        vertical-align: top;\n",
       "    }\n",
       "\n",
       "    .dataframe thead th {\n",
       "        text-align: right;\n",
       "    }\n",
       "</style>\n",
       "<table border=\"1\" class=\"dataframe\">\n",
       "  <thead>\n",
       "    <tr style=\"text-align: right;\">\n",
       "      <th></th>\n",
       "      <th>title</th>\n",
       "      <th>context</th>\n",
       "      <th>question</th>\n",
       "      <th>answer_txt</th>\n",
       "      <th>document_id</th>\n",
       "    </tr>\n",
       "  </thead>\n",
       "  <tbody>\n",
       "    <tr>\n",
       "      <th>0</th>\n",
       "      <td>미국 상원</td>\n",
       "      <td>미국 상의원 또는 미국 상원(United States Senate)은 양원제인 미국...</td>\n",
       "      <td>대통령을 포함한 미국의 행정부 견제권을 갖는 국가 기관은?</td>\n",
       "      <td>하원</td>\n",
       "      <td>18293</td>\n",
       "    </tr>\n",
       "    <tr>\n",
       "      <th>1</th>\n",
       "      <td>인사조직관리</td>\n",
       "      <td>'근대적 경영학' 또는 '고전적 경영학'에서 현대적 경영학으로 전환되는 시기는 19...</td>\n",
       "      <td>현대적 인사조직관리의 시발점이 된 책은?</td>\n",
       "      <td>《경영의 실제》</td>\n",
       "      <td>51638</td>\n",
       "    </tr>\n",
       "    <tr>\n",
       "      <th>2</th>\n",
       "      <td>강희제</td>\n",
       "      <td>강희제는 강화된 황권으로 거의 황제 중심의 독단적으로 나라를 이끌어 갔기에 자칫 전...</td>\n",
       "      <td>강희제가 1717년에 쓴 글은 누구를 위해 쓰여졌는가?</td>\n",
       "      <td>백성</td>\n",
       "      <td>5028</td>\n",
       "    </tr>\n",
       "    <tr>\n",
       "      <th>3</th>\n",
       "      <td>금동삼존불감</td>\n",
       "      <td>불상을 모시기 위해 나무나 돌, 쇠 등을 깎아 일반적인 건축물보다 작은 규모로 만든...</td>\n",
       "      <td>11~12세기에 제작된 본존불은 보통 어떤 나라의 특징이 전파되었나요?</td>\n",
       "      <td>중국</td>\n",
       "      <td>34146</td>\n",
       "    </tr>\n",
       "    <tr>\n",
       "      <th>4</th>\n",
       "      <td>계사명 사리구</td>\n",
       "      <td>동아대학교박물관에서 소장하고 있는 계사명 사리구는 총 4개의 용기로 구성된 조선후기...</td>\n",
       "      <td>명문이 적힌 유물을 구성하는 그릇의 총 개수는?</td>\n",
       "      <td>4개</td>\n",
       "      <td>47334</td>\n",
       "    </tr>\n",
       "  </tbody>\n",
       "</table>\n",
       "</div>"
      ],
      "text/plain": [
       "     title                                            context  \\\n",
       "0    미국 상원  미국 상의원 또는 미국 상원(United States Senate)은 양원제인 미국...   \n",
       "1   인사조직관리  '근대적 경영학' 또는 '고전적 경영학'에서 현대적 경영학으로 전환되는 시기는 19...   \n",
       "2      강희제  강희제는 강화된 황권으로 거의 황제 중심의 독단적으로 나라를 이끌어 갔기에 자칫 전...   \n",
       "3   금동삼존불감  불상을 모시기 위해 나무나 돌, 쇠 등을 깎아 일반적인 건축물보다 작은 규모로 만든...   \n",
       "4  계사명 사리구  동아대학교박물관에서 소장하고 있는 계사명 사리구는 총 4개의 용기로 구성된 조선후기...   \n",
       "\n",
       "                                  question answer_txt  document_id  \n",
       "0         대통령을 포함한 미국의 행정부 견제권을 갖는 국가 기관은?         하원        18293  \n",
       "1                   현대적 인사조직관리의 시발점이 된 책은?   《경영의 실제》        51638  \n",
       "2           강희제가 1717년에 쓴 글은 누구를 위해 쓰여졌는가?         백성         5028  \n",
       "3  11~12세기에 제작된 본존불은 보통 어떤 나라의 특징이 전파되었나요?         중국        34146  \n",
       "4               명문이 적힌 유물을 구성하는 그릇의 총 개수는?         4개        47334  "
      ]
     },
     "execution_count": 10,
     "metadata": {},
     "output_type": "execute_result"
    }
   ],
   "source": [
    "total_train_df[\"answer_txt\"] = total_train_df['answers'].apply(lambda x: x['text'][0])\n",
    "total_train_df = total_train_df[[\"title\", \"context\", \"question\", \"answer_txt\", \"document_id\"]]\n",
    "total_train_df.head()"
   ]
  },
  {
   "cell_type": "code",
   "execution_count": 11,
   "metadata": {},
   "outputs": [
    {
     "name": "stdout",
     "output_type": "stream",
     "text": [
      "show answer example\n",
      "\t 1 《경영의 실제》 《\n",
      "\t 1 《경영의 실제》 》\n",
      "\t 15 '초일기' '\n",
      "\t 30 우전왕(優塡王)식 착의법 (\n",
      "\t 30 우전왕(優塡王)식 착의법 )\n",
      "\t 58 ≪인간의 이해: 개념의 집단적 사용 및 진화 (1972)≫ :\n",
      "\t 58 ≪인간의 이해: 개념의 집단적 사용 및 진화 (1972)≫ ≪\n",
      "\t 58 ≪인간의 이해: 개념의 집단적 사용 및 진화 (1972)≫ ≫\n",
      "\t 62 〈마브루공(公)〉 〉\n",
      "\t 62 〈마브루공(公)〉 〈\n",
      "\t 136 ‘전의식’(前意識) ’\n",
      "\t 136 ‘전의식’(前意識) ‘\n",
      "\t 146 연평균 10% %\n",
      "\t 295 요한 B. 크라머 .\n",
      "\t 366 1,331개 ,\n",
      "\t 520 \"오 그 불쌍한 사람들... 그러나 그건 별로 중요하지 않아요! 중요한건 난 새로운 배달원이 필요했다는 거지!\" !\n",
      "\t 520 \"오 그 불쌍한 사람들... 그러나 그건 별로 중요하지 않아요! 중요한건 난 새로운 배달원이 필요했다는 거지!\" \"\n",
      "\t 544 최근의 반도의 경제사범 ­국민의 신경제 윤리의 파악을 위하여­ ­\n",
      "\t 557 5-8월 -\n",
      "\t 745 “자랑스런 죄수” “\n",
      "\t 745 “자랑스런 죄수” ”\n",
      "\t 812 네우스트리아·부르고뉴·프로방스 ·\n",
      "\t 920 <유추론자의 이론에 대하여> <\n",
      "\t 920 <유추론자의 이론에 대하여> >\n",
      "\t 1030 ‘∧’ 모양 ∧\n",
      "\t 1421 『전체주의의 기원』 『\n",
      "\t 1421 『전체주의의 기원』 』\n",
      "\t 1980 「남행월일기」 「\n",
      "\t 1980 「남행월일기」 」\n",
      "\t 2041 ＜펠리사＞ ＞\n",
      "\t 2041 ＜펠리사＞ ＜\n",
      "\t 2324 오카야마・아노쓰 번 ・\n",
      "\t 2501 80 km/h /\n",
      "\t 2807 2011년~2013년 ~\n",
      "\t 3280 27 ° C °\n",
      "\t 3782 펄사 PSR J0205+64 +\n",
      "\n",
      "\n",
      "total special char : ['\\uf34b', '】', '`', '\\ue284', '\\uf53d', 'ླ', '⇕', '\\ue911', '）', '\\ue0cd', '\\ue1bf', '《', 'ྷ', '\\ue6e9', '≈', '㎢', 'ू', '\\uf552', '［', '\\ue6b5', '̃', '∙', '☑', 'ి', '˕', '㎾', '※', '\\ue8e6', '〉', ';', '「', 'ြ', 'ฺ', '▲', '\\ue7e0', '\\ueea5', '～', '\\uee8c', '\\ue6db', '▵', '-', '⇌', '₩', 'ီ', '☆', '–', '‧', '\\ue26a', '\\ue7bb', '˦', '\\uf212', '\\ueae0', '\\uf469', '♬', 'ྨ', '\\ue38d', 'ྐ', '\\ue668', '⊙', '＞', '․', '\\ue74f', '\\ue6ac', '္', '\\ue725', '\\ue47e', 'ุ', '\\uf0a7', '̪', '㎿', 'ಿ', '\\uf209', 'ึ', 'ׁ', 'ौ', 'ຸ', '\\uf219', '⇑', 'ി', '‰', '⊃', '\\uf34e', '<', '･', '\\ue290', '\\uf21b', '＊', ']', '\\ue1a7', 'ྦ', '\\ue7c0', 'ֶ', '̠', 'ॉ', '▨', '\\ue283', 'ื', '็', '／', 'ُ', '：', '\\uea35', '\\ue82b', '㎝', '\\u200d', '＝', 'ꠤ', '\\ue335', '∆', '·', '♥', '\\U000f081a', 'ா', '#', '（', 'ิ', '\\uf3f3', '\\ue741', '\\ue777', '΄', '̈', '\\ue27a', '\\uf545', '\\ue7af', '✓', '\\ue470', '⁾', '\\ue79e', '¨', 'ු', '̻', '☐', 'ு', '\\ue669', '\\ue9a5', '£', '̂', '\\ue9d5', '\\uee32', '↦', '\\uf2e2', '~', '̀', '®', '\\uf200', '◆', 'ා', '◇', '\\ued0c', '⊿', '̟', '〯', '\\ue31b', '။', '\\ue564', '⊥', '்', '⁽', '☊', '\\ue9a3', '×', '\\ueb4c', 'ृ', '\\ue45d', '\\ue35f', '\\ue94d', '}', '→', '\\uf443', '့', '\\ueb91', 'ֿ', '⟨', '℃', '㎎', '㎞', '㉰', '\\uf53a', 'ံ', '⊂', '\\ue397', '\\ue95b', '↓', '㎡', 'ಾ', '≲', '\\ue620', '♀', '－', '†', 'ি', '\\uedf8', 'း', '\\uead9', '\\uf4cf', 'ು', '∪', '\\uf325', '\\uedc5', '○', '\\uee88', '\\uea30', '\\u200c', '\\ue9bf', 'ົ', '\\uea05', '\\ue477', '\\ue38e', '♣', '\\ue563', '〮', '\\uf53c', 'ี', '\\ueb6a', '\\ue570', '\\ue299', '\\ue91c', '㎜', '➜', '\\u200f', '＼', '\\uf353', 'ි', '˧', '∃', '\\uea52', '\\uf506', '▪', '\\ue64f', '\\uf4d9', '\\x7f', 'ֵ', '\\ue38b', '🄓', 'ា', '\\uecf5', ':', '້', '㉮', '\\ue97d', '㎒', '\\ue7f0', 'ျ', '！', '\\ue6da', '\\ue44b', '⳩', '♯', 'ྣ', 'ֹ', '(', '\\ue1aa', '\\uf2fe', '̷', '\\uf341', 'َ', '\\uea71', '\\uebe1', '\\ue60b', '’', 'ँ', 'ে', '≡', '\\ue64d', '\\ue1ab', '̝', '⁻', '\\ued6e', '⿸', '％', '↑', '‿', '\\ue6c7', '¢', 'ೊ', '̊', '˪', '�', 'ְ', 'ె', '\\ue7ef', '\\U000f0850', '°', '\\ueaab', 'ֱ', '̴', '㈜', '\\ue9d9', '☞', '်', '\\ue390', 'ု', '\\uf445', 'া', 'ை', 'ެ', '\\ue653', '\\uf1a4', 'ู', '්', '⦁', '/', '\\ue514', '\\ue1d4', '♦', '\\ue587', '\\uf16e', '＇', 'ូ', '∧', '\\uea4b', '√', '\\uf32e', '\\uf554', '\\ue920', '์', 'ំ', '\\ue46e', '\\ue393', '㎛', 'ෝ', '։', '\\uf1f2', '্', '⠀', '\\ue904', 'ো', 'ໍ', '‖', 'ް', '\\ue6aa', '་', 'ั', 'ྱ', '｣', '㏃', '\\ue77c', '\\uecf0', 'ः', '้', '›', 'ೇ', '\\ue99a', '\\ue423', '\\uf475', '\\ued01', '\\ued46', 'ު', '⇓', '\\uf207', 'ූ', '\\uf414', 'ׂ', '\\U000f0855', 'ុ', '្', '\\ue991', '」', '｜', '〃', '\\ueb78', '\\ueafe', '℉', '\\ue142', '⊢', '\\uf55a', '≤', '\\uee20', '‘', ')', '\\uf42a', '♡', '̩', 'ဲ', '\\ue789', '̡', '̌', '\\ue798', 'ّ', '•', 'ࠩ', '\\ue9fa', '\\ueb27', '『', 'ि', 'Ⓚ', '[', '\\ue3a4', '‥', '™', '\\ue1cd', '̰', '\\ue9e1', 'Ⓐ', '\\uf4dc', '❱', '？', '.', '▼', 'ං', '่', '—', '▩', 'ေ', '˩', '◌', '\\ue567', '㉠', '\\ue1ad', '\\ue847', '〈', '\\ue7eb', '\\uea5c', '⊔', '\\uf337', '\\ue323', 'ှ', '\\ue288', '¶', '｢', '័', '\\U000f0818', '\\ue38a', 'ो', '\\uf55c', '\\uf346', '\\ueafa', '∨', '\\ue986', 'ེ', '\\ued98', '్', '\\uee19', 'ັ', 'ူ', 'ິ', 'ູ', '|', '̞', '̥', '\\uf1d6', '─', '\\u200b', '∴', '\\ue770', 'ਾ', '★', '്', '!', '∑', '\\ueea4', 'ெ', '′', '\\ue10e', '\\ue6d2', '\\ueae3', '‑', '^', '\\ue580', '』', '“', '\\ue999', 'ٔ', '\\ue9a2', '́', '\\x95', '\\uee95', '〜', '∀', '\\uf199', 'ྟ', '\\uea45', '＆', '\\ue39e', '\\uf000', 'ْ', 'ួ', '−', '\\ue64a', 'ீ', '\\ueeaa', 'ु', '\\uea8d', '\\ue96d', '\\u2060', 'ী', 'ැ', '㎲', '§', '㏈', '△', '。', '͡', '🐎', '\\uea09', '》', 'ோ', '▷', '\\ue264', '\\ue81f', 'ி', '●', '↘', '\\ue7b9', '֖', '【', '∩', '>', '㎏', '\\uea4d', '\\uf1ac', '≠', '］', '\\uf4b6', '\\uea3b', '\\u200e', 'ी', '\\U00103911', '⟩', \"'\", '\\ue805', '\\uf48e', '=', 'ះ', '\\uf43e', '?', '㎠', '\\ueafc', '⁄', 'ِ', '⟪', '‡', 'ਂ', '\\uec17', '├', '\\ue11c', '│', '㎥', '\\uea50', '⋯', '\\ueb66', '\"', '@', '\\ue980', '＄', '\\uf550', '㎓', 'ਿ', 'ྲ', '；', '\\uf1e2', '່', '㎗', '\\uead6', '±', 'ே', 'ަ', '\\uf09e', '̍', 'ོ', '\\uf402', '⇄', '\\ue487', '˚', 'ং', '\\ue42c', '\\ue9cd', '̄', '\\ue750', '\\ue9a9', '།', '़', '㎈', '್', '…', '\\ue6f5', '\\uf3ed', '\\uf1fe', '\\ue419', '⇔', '+', '♂', '\\ue588', '∼', '$', '〰', '\\ue8da', '՝', '└', '̱', '{', '≥', '∞', '\\ue982', '̽', '⊆', '\\ue2a0', 'ྒ', '♭', '၊', '\\ue65c', '\\uea61', '\\ue285', 'ི', '\\U000f0813', '\\ue7be', '↔', '\\U000f0851', 'ָ', '\\U000f0853', '%', '✔', '\\\\', '\\uea58', 'ⓒ', '\\ue38f', '♪', '\\xad', '🔰', 'ੰ', '\\ue3a8', '▶', '֥', '\\ue1ba', '«', '\\uee0d', '\\uf448', '\\ue543', '\\uf51b', '\\uf22e', '\\uf354', 'ं', '\\uf343', '✿', '㎖', 'Ⓡ', '\\uf55b', '\\ue73b', 'ී', '・', '\\ue286', '◯', '\\ueab3', '\\uf43c', '㏊', '\\uf2f5', '◗', '‹', '\\ue0e6', 'ু', '⛎', 'ෙ', 'ொ', 'ି', '€', '\\uf43d', '*', '\\uf538', '\\ue40b', '̯', '̚', '\\U000f0852', '❍', '\\ueb5e', 'ྙ', '≒', '᠋', '⇐', '\\uf537', '\\uebd4', '´', '\\ue93a', '\\ue566', 'ּ', '\\uee6b', '㏏', '\\ue57e', '‐', '〔', '\\ued1c', '&', '．', '»', '║', 'ூ', '\\ue74c', '，', '〕', '㉯', '⇒', '❰', '\\U000f0854', '\\ue1ce', '\\ueb68', 'े', '\\ued8f', '\\uebd6', '়', '\\ue350', '″', '\\uf3ea', '\\ued93', '\\ue5e5', '्', '\\uf490', '\\U000f0811', '㎚', '๋', '⟫', '¬', '☧', '↙', 'ֽ', '\\uee8a', '\\ue344', '\\ue7df', 'ො', 'ు', '\\uf553', '、', 'ာ', '\\ue6b0', '≪', '¿', 'ိ', '\\uf204', '\\uf1fd', '\\ue34d', '˝', ',', 'ੀ', '￼', '\\uea0b', '―', '‚', '„', '\\ue560', '\\ueb7b', '\\ueb8e', '\\ue46c', '\\ueab8', '\\ueaf8', '\\uee90', '\\uec02', 'ិ', '∈', '\\ue97f', '\\uf440', 'ੋ', '⇘', 'ַ', '\\ue774', '\\uf17a', '\\ue57b', 'ा', 'ࠝ', '\\ue650', 'ׇ', '”', '＂', 'ٍ', '⋅', '≫', '\\ue5ff', '\\uf4bf', 'ွ', '̣', '¡', '\\uf492', 'ේ', '\\ue500', '\\uf4a0', '＜', 'ً', '\\uee93', 'ި', '\\ue98b', '់', '■', '\\ue3b0', 'ִ', 'ါ', '\\ueae7', '\\ue76b', '\\ue81a', '￢', '\\ue640', '\\ue28c', 'ࠠ', '\\uf1fc', '\\ue6d7', '□', '＋', '←', '\\ued9a', 'ೀ', '¥', '◎', '\\ueaed', '\\ue6bc', 'ུ', 'ྩ', '\\ue772', '÷', '\\U000f0848', '\\uea2e', '˥', 'ྫ', '\\ue292', '\\uf345']\n",
      "special char shown in answer: ['《', '》', \"'\", '(', ')', ':', '≪', '≫', '〉', '〈', '’', '‘', '%', '.', ',', '!', '\"', '\\xad', '-', '“', '”', '·', '<', '>', '∧', '『', '』', '「', '」', '＞', '＜', '・', '/', '~', '°', '+']\n",
      "special char not in  answer: ['\\uf34b', '】', '`', '\\ue284', '\\uf53d', 'ླ', '⇕', '\\ue911', '）', '\\ue0cd', '\\ue1bf', 'ྷ', '\\ue6e9', '≈', '㎢', 'ू', '\\uf552', '［', '\\ue6b5', '̃', '∙', '☑', 'ి', '˕', '㎾', '※', '\\ue8e6', ';', 'ြ', 'ฺ', '▲', '\\ue7e0', '\\ueea5', '～', '\\uee8c', '\\ue6db', '▵', '⇌', '₩', 'ီ', '☆', '–', '‧', '\\ue26a', '\\ue7bb', '˦', '\\uf212', '\\ueae0', '\\uf469', '♬', 'ྨ', '\\ue38d', 'ྐ', '\\ue668', '⊙', '․', '\\ue74f', '\\ue6ac', '္', '\\ue725', '\\ue47e', 'ุ', '\\uf0a7', '̪', '㎿', 'ಿ', '\\uf209', 'ึ', 'ׁ', 'ौ', 'ຸ', '\\uf219', '⇑', 'ി', '‰', '⊃', '\\uf34e', '･', '\\ue290', '\\uf21b', '＊', ']', '\\ue1a7', 'ྦ', '\\ue7c0', 'ֶ', '̠', 'ॉ', '▨', '\\ue283', 'ื', '็', '／', 'ُ', '：', '\\uea35', '\\ue82b', '㎝', '\\u200d', '＝', 'ꠤ', '\\ue335', '∆', '♥', '\\U000f081a', 'ா', '#', '（', 'ิ', '\\uf3f3', '\\ue741', '\\ue777', '΄', '̈', '\\ue27a', '\\uf545', '\\ue7af', '✓', '\\ue470', '⁾', '\\ue79e', '¨', 'ු', '̻', '☐', 'ு', '\\ue669', '\\ue9a5', '£', '̂', '\\ue9d5', '\\uee32', '↦', '\\uf2e2', '̀', '®', '\\uf200', '◆', 'ා', '◇', '\\ued0c', '⊿', '̟', '〯', '\\ue31b', '။', '\\ue564', '⊥', '்', '⁽', '☊', '\\ue9a3', '×', '\\ueb4c', 'ृ', '\\ue45d', '\\ue35f', '\\ue94d', '}', '→', '\\uf443', '့', '\\ueb91', 'ֿ', '⟨', '℃', '㎎', '㎞', '㉰', '\\uf53a', 'ံ', '⊂', '\\ue397', '\\ue95b', '↓', '㎡', 'ಾ', '≲', '\\ue620', '♀', '－', '†', 'ি', '\\uedf8', 'း', '\\uead9', '\\uf4cf', 'ು', '∪', '\\uf325', '\\uedc5', '○', '\\uee88', '\\uea30', '\\u200c', '\\ue9bf', 'ົ', '\\uea05', '\\ue477', '\\ue38e', '♣', '\\ue563', '〮', '\\uf53c', 'ี', '\\ueb6a', '\\ue570', '\\ue299', '\\ue91c', '㎜', '➜', '\\u200f', '＼', '\\uf353', 'ි', '˧', '∃', '\\uea52', '\\uf506', '▪', '\\ue64f', '\\uf4d9', '\\x7f', 'ֵ', '\\ue38b', '🄓', 'ា', '\\uecf5', '້', '㉮', '\\ue97d', '㎒', '\\ue7f0', 'ျ', '！', '\\ue6da', '\\ue44b', '⳩', '♯', 'ྣ', 'ֹ', '\\ue1aa', '\\uf2fe', '̷', '\\uf341', 'َ', '\\uea71', '\\uebe1', '\\ue60b', 'ँ', 'ে', '≡', '\\ue64d', '\\ue1ab', '̝', '⁻', '\\ued6e', '⿸', '％', '↑', '‿', '\\ue6c7', '¢', 'ೊ', '̊', '˪', '�', 'ְ', 'ె', '\\ue7ef', '\\U000f0850', '\\ueaab', 'ֱ', '̴', '㈜', '\\ue9d9', '☞', '်', '\\ue390', 'ု', '\\uf445', 'া', 'ை', 'ެ', '\\ue653', '\\uf1a4', 'ู', '්', '⦁', '\\ue514', '\\ue1d4', '♦', '\\ue587', '\\uf16e', '＇', 'ូ', '\\uea4b', '√', '\\uf32e', '\\uf554', '\\ue920', '์', 'ំ', '\\ue46e', '\\ue393', '㎛', 'ෝ', '։', '\\uf1f2', '্', '⠀', '\\ue904', 'ো', 'ໍ', '‖', 'ް', '\\ue6aa', '་', 'ั', 'ྱ', '｣', '㏃', '\\ue77c', '\\uecf0', 'ः', '้', '›', 'ೇ', '\\ue99a', '\\ue423', '\\uf475', '\\ued01', '\\ued46', 'ު', '⇓', '\\uf207', 'ූ', '\\uf414', 'ׂ', '\\U000f0855', 'ុ', '្', '\\ue991', '｜', '〃', '\\ueb78', '\\ueafe', '℉', '\\ue142', '⊢', '\\uf55a', '≤', '\\uee20', '\\uf42a', '♡', '̩', 'ဲ', '\\ue789', '̡', '̌', '\\ue798', 'ّ', '•', 'ࠩ', '\\ue9fa', '\\ueb27', 'ि', 'Ⓚ', '[', '\\ue3a4', '‥', '™', '\\ue1cd', '̰', '\\ue9e1', 'Ⓐ', '\\uf4dc', '❱', '？', '▼', 'ං', '่', '—', '▩', 'ေ', '˩', '◌', '\\ue567', '㉠', '\\ue1ad', '\\ue847', '\\ue7eb', '\\uea5c', '⊔', '\\uf337', '\\ue323', 'ှ', '\\ue288', '¶', '｢', '័', '\\U000f0818', '\\ue38a', 'ो', '\\uf55c', '\\uf346', '\\ueafa', '∨', '\\ue986', 'ེ', '\\ued98', '్', '\\uee19', 'ັ', 'ူ', 'ິ', 'ູ', '|', '̞', '̥', '\\uf1d6', '─', '\\u200b', '∴', '\\ue770', 'ਾ', '★', '്', '∑', '\\ueea4', 'ெ', '′', '\\ue10e', '\\ue6d2', '\\ueae3', '‑', '^', '\\ue580', '\\ue999', 'ٔ', '\\ue9a2', '́', '\\x95', '\\uee95', '〜', '∀', '\\uf199', 'ྟ', '\\uea45', '＆', '\\ue39e', '\\uf000', 'ْ', 'ួ', '−', '\\ue64a', 'ீ', '\\ueeaa', 'ु', '\\uea8d', '\\ue96d', '\\u2060', 'ী', 'ැ', '㎲', '§', '㏈', '△', '。', '͡', '🐎', '\\uea09', 'ோ', '▷', '\\ue264', '\\ue81f', 'ி', '●', '↘', '\\ue7b9', '֖', '【', '∩', '㎏', '\\uea4d', '\\uf1ac', '≠', '］', '\\uf4b6', '\\uea3b', '\\u200e', 'ी', '\\U00103911', '⟩', '\\ue805', '\\uf48e', '=', 'ះ', '\\uf43e', '?', '㎠', '\\ueafc', '⁄', 'ِ', '⟪', '‡', 'ਂ', '\\uec17', '├', '\\ue11c', '│', '㎥', '\\uea50', '⋯', '\\ueb66', '@', '\\ue980', '＄', '\\uf550', '㎓', 'ਿ', 'ྲ', '；', '\\uf1e2', '່', '㎗', '\\uead6', '±', 'ே', 'ަ', '\\uf09e', '̍', 'ོ', '\\uf402', '⇄', '\\ue487', '˚', 'ং', '\\ue42c', '\\ue9cd', '̄', '\\ue750', '\\ue9a9', '།', '़', '㎈', '್', '…', '\\ue6f5', '\\uf3ed', '\\uf1fe', '\\ue419', '⇔', '♂', '\\ue588', '∼', '$', '〰', '\\ue8da', '՝', '└', '̱', '{', '≥', '∞', '\\ue982', '̽', '⊆', '\\ue2a0', 'ྒ', '♭', '၊', '\\ue65c', '\\uea61', '\\ue285', 'ི', '\\U000f0813', '\\ue7be', '↔', '\\U000f0851', 'ָ', '\\U000f0853', '✔', '\\\\', '\\uea58', 'ⓒ', '\\ue38f', '♪', '🔰', 'ੰ', '\\ue3a8', '▶', '֥', '\\ue1ba', '«', '\\uee0d', '\\uf448', '\\ue543', '\\uf51b', '\\uf22e', '\\uf354', 'ं', '\\uf343', '✿', '㎖', 'Ⓡ', '\\uf55b', '\\ue73b', 'ී', '\\ue286', '◯', '\\ueab3', '\\uf43c', '㏊', '\\uf2f5', '◗', '‹', '\\ue0e6', 'ু', '⛎', 'ෙ', 'ொ', 'ି', '€', '\\uf43d', '*', '\\uf538', '\\ue40b', '̯', '̚', '\\U000f0852', '❍', '\\ueb5e', 'ྙ', '≒', '᠋', '⇐', '\\uf537', '\\uebd4', '´', '\\ue93a', '\\ue566', 'ּ', '\\uee6b', '㏏', '\\ue57e', '‐', '〔', '\\ued1c', '&', '．', '»', '║', 'ூ', '\\ue74c', '，', '〕', '㉯', '⇒', '❰', '\\U000f0854', '\\ue1ce', '\\ueb68', 'े', '\\ued8f', '\\uebd6', '়', '\\ue350', '″', '\\uf3ea', '\\ued93', '\\ue5e5', '्', '\\uf490', '\\U000f0811', '㎚', '๋', '⟫', '¬', '☧', '↙', 'ֽ', '\\uee8a', '\\ue344', '\\ue7df', 'ො', 'ు', '\\uf553', '、', 'ာ', '\\ue6b0', '¿', 'ိ', '\\uf204', '\\uf1fd', '\\ue34d', '˝', 'ੀ', '￼', '\\uea0b', '―', '‚', '„', '\\ue560', '\\ueb7b', '\\ueb8e', '\\ue46c', '\\ueab8', '\\ueaf8', '\\uee90', '\\uec02', 'ិ', '∈', '\\ue97f', '\\uf440', 'ੋ', '⇘', 'ַ', '\\ue774', '\\uf17a', '\\ue57b', 'ा', 'ࠝ', '\\ue650', 'ׇ', '＂', 'ٍ', '⋅', '\\ue5ff', '\\uf4bf', 'ွ', '̣', '¡', '\\uf492', 'ේ', '\\ue500', '\\uf4a0', 'ً', '\\uee93', 'ި', '\\ue98b', '់', '■', '\\ue3b0', 'ִ', 'ါ', '\\ueae7', '\\ue76b', '\\ue81a', '￢', '\\ue640', '\\ue28c', 'ࠠ', '\\uf1fc', '\\ue6d7', '□', '＋', '←', '\\ued9a', 'ೀ', '¥', '◎', '\\ueaed', '\\ue6bc', 'ུ', 'ྩ', '\\ue772', '÷', '\\U000f0848', '\\uea2e', '˥', 'ྫ', '\\ue292', '\\uf345']\n"
     ]
    }
   ],
   "source": [
    "answer_txt = list(total_train_df['answer_txt'])\n",
    "\n",
    "special_tok = special_character.copy() # wiki에서 확인 가능했던 특수문자들\n",
    "\n",
    "in_answer =[]\n",
    "print(\"show answer example\")\n",
    "for i, word in enumerate(answer_txt):\n",
    "    for p in special_tok:\n",
    "        if p in word:\n",
    "            print(\"\\t\",i, word, p)\n",
    "            in_answer.append(p)\n",
    "            special_tok.remove(p)\n",
    "\n",
    "print()\n",
    "print()\n",
    "print('total special char :', special_character) # '\\ue6ac'형태로 출력되는 애는 unicode 특수문자가 string type으로 저장될 때 '\\ue6ac'형태로 저장된 것 \n",
    "print('special char shown in answer:', in_answer)\n",
    "print('special char not in  answer:', special_tok)\n",
    "\n"
   ]
  },
  {
   "cell_type": "code",
   "execution_count": 12,
   "metadata": {},
   "outputs": [
    {
     "name": "stdout",
     "output_type": "stream",
     "text": [
      "《》'():≪≫〉〈’‘%.,!\"­-“”·<>∧『』「」＞＜・/~°+\n"
     ]
    }
   ],
   "source": [
    "text = \"\"\n",
    "for sp in in_answer:\n",
    "    text += sp\n",
    "print(text)"
   ]
  },
  {
   "cell_type": "code",
   "execution_count": 13,
   "metadata": {},
   "outputs": [],
   "source": [
    "def preprocess(text: str) -> str:\n",
    "    text = re.sub(r\"\\\\+n\", \" \", text)\n",
    "    text = re.sub(r\"#\", \" \", text)\n",
    "    text = re.sub(\n",
    "        # r\"([^ㄱ-ㅎㅏ-ㅣ가-힣a-zA-Z\\d\\s\\.\\,\\'\\\"\\<\\>\\!\\@\\#\\$\\%\\^\\&\\*\\(\\)\\[\\]\\_\\+\\-《》)(≫≪:〈〉‘’%.,!­-”“·><∧』『」「＜＞・/~°+])\", # reader\n",
    "        r\"([^ㄱ-ㅎㅏ-ㅣ가-힣a-zA-Z\\d\\s\\.\\,\\'\\\"\\<\\>\\!\\@\\#\\$\\%\\^\\&\\*\\(\\)\\[\\]\\_\\+\\-’‘“”《》〈〉~])\", # retriever\n",
    "        \"\",\n",
    "        text,\n",
    "    )\n",
    "    text = re.sub(r\"\\s+\", \" \", text).strip()  # 중복 공백 제거\n",
    "\n",
    "    return text\n"
   ]
  },
  {
   "cell_type": "code",
   "execution_count": 14,
   "metadata": {},
   "outputs": [],
   "source": [
    "total_train_df['context'] = total_train_df['context'].apply(preprocess)"
   ]
  },
  {
   "cell_type": "code",
   "execution_count": null,
   "metadata": {},
   "outputs": [],
   "source": []
  }
 ],
 "metadata": {
  "kernelspec": {
   "display_name": "mrc",
   "language": "python",
   "name": "python3"
  },
  "language_info": {
   "codemirror_mode": {
    "name": "ipython",
    "version": 3
   },
   "file_extension": ".py",
   "mimetype": "text/x-python",
   "name": "python",
   "nbconvert_exporter": "python",
   "pygments_lexer": "ipython3",
   "version": "3.10.11"
  },
  "orig_nbformat": 4
 },
 "nbformat": 4,
 "nbformat_minor": 2
}
