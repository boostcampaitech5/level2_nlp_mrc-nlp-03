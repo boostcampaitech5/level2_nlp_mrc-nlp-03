{
 "cells": [
  {
   "attachments": {},
   "cell_type": "markdown",
   "metadata": {},
   "source": [
    "# DATA LOAD"
   ]
  },
  {
   "cell_type": "code",
   "execution_count": 2,
   "metadata": {},
   "outputs": [],
   "source": [
    "from transformers import AutoTokenizer\n",
    "import json\n",
    "import os\n",
    "from tqdm.auto import tqdm\n",
    "from datasets import load_dataset, load_from_disk\n",
    "\n",
    "wiki_path = '../../../data/wikipedia_documents.json'\n",
    "with open(wiki_path, 'r',encoding='utf-8') as f:\n",
    "    wiki = json.load(f)"
   ]
  },
  {
   "cell_type": "code",
   "execution_count": 4,
   "metadata": {},
   "outputs": [],
   "source": [
    "dataset = load_from_disk('../../../data/train_dataset')\n",
    "train_dataset = dataset['train']\n",
    "val_dataset = dataset['validation']"
   ]
  },
  {
   "attachments": {},
   "cell_type": "markdown",
   "metadata": {},
   "source": [
    "# PREPROCESSING"
   ]
  },
  {
   "cell_type": "code",
   "execution_count": 5,
   "metadata": {},
   "outputs": [],
   "source": [
    "import re\n",
    "\n",
    "def preprocess(text: str) -> str:\n",
    "    text = re.sub(r\"\\\\\\\\+n\", \" \", text)  # \\\\\\\\n 따위의 이상한 개행문자 제거\n",
    "    text = re.sub(\n",
    "        r\"([^ㄱ-ㅎㅏ-ㅣ가-힣a-zA-Z\\d\\s\\.\\,\\'\\\"\\<\\>\\!\\@\\#\\$\\%\\^\\&\\*\\(\\)\\[\\]\\_\\+\\-’‘“”《》〈〉~])\",\n",
    "        \"\",\n",
    "        text,\n",
    "    )\n",
    "\n",
    "    text = re.sub(r\"(\\\\(\\\\)|\\\\[\\\\])\", \"\", text)  # 빈 괄호 제거\n",
    "    text = re.sub(r\"\\\\s+\", \" \", text).strip()  # 중복 공백 제거\n",
    "\n",
    "    return text"
   ]
  },
  {
   "cell_type": "code",
   "execution_count": 6,
   "metadata": {},
   "outputs": [
    {
     "data": {
      "text/html": [
       "<div>\n",
       "<style scoped>\n",
       "    .dataframe tbody tr th:only-of-type {\n",
       "        vertical-align: middle;\n",
       "    }\n",
       "\n",
       "    .dataframe tbody tr th {\n",
       "        vertical-align: top;\n",
       "    }\n",
       "\n",
       "    .dataframe thead th {\n",
       "        text-align: right;\n",
       "    }\n",
       "</style>\n",
       "<table border=\"1\" class=\"dataframe\">\n",
       "  <thead>\n",
       "    <tr style=\"text-align: right;\">\n",
       "      <th></th>\n",
       "      <th>text</th>\n",
       "      <th>title</th>\n",
       "      <th>document_id</th>\n",
       "    </tr>\n",
       "  </thead>\n",
       "  <tbody>\n",
       "    <tr>\n",
       "      <th>37157</th>\n",
       "      <td>11,172글자를 1줄에 28글자씩 399줄로 배열하여 모두 나열하면 다음과 같다....</td>\n",
       "      <td>한글 음절</td>\n",
       "      <td>40965</td>\n",
       "    </tr>\n",
       "  </tbody>\n",
       "</table>\n",
       "</div>"
      ],
      "text/plain": [
       "                                                    text  title document_id\n",
       "37157  11,172글자를 1줄에 28글자씩 399줄로 배열하여 모두 나열하면 다음과 같다....  한글 음절       40965"
      ]
     },
     "execution_count": 6,
     "metadata": {},
     "output_type": "execute_result"
    }
   ],
   "source": [
    "import pandas as pd\n",
    "\n",
    "wiki_df = pd.DataFrame(wiki).T\n",
    "wiki_df = wiki_df[[\"text\", \"title\", \"document_id\"]]\n",
    "wiki_df\n",
    "wiki_df[\"text\"] = wiki_df[\"text\"].apply(preprocess)\n",
    "wiki_df.drop_duplicates(\"text\", inplace=True)\n",
    "wiki_df.reset_index(drop=True, inplace=True)\n",
    "trash = wiki_df[wiki_df.document_id == 40965] #document_id == 40965\n",
    "trash"
   ]
  },
  {
   "cell_type": "code",
   "execution_count": 7,
   "metadata": {},
   "outputs": [],
   "source": [
    "wiki_df.drop(40965,inplace=True)\n",
    "wiki_df.reset_index(drop=True, inplace=True)"
   ]
  },
  {
   "cell_type": "code",
   "execution_count": 8,
   "metadata": {},
   "outputs": [
    {
     "name": "stdout",
     "output_type": "stream",
     "text": [
      "56737\n"
     ]
    }
   ],
   "source": [
    "from unidecode import unidecode\n",
    "from datasets import Dataset\n",
    "\n",
    "context = list(dict.fromkeys([v['text'] for v in wiki.values()]))\n",
    "\n",
    "context = [{'text': c} for c in context]\n",
    "\n",
    "print(len(context))"
   ]
  },
  {
   "attachments": {},
   "cell_type": "markdown",
   "metadata": {},
   "source": [
    "# Answer EDA"
   ]
  },
  {
   "cell_type": "code",
   "execution_count": 9,
   "metadata": {},
   "outputs": [],
   "source": [
    "from mecab import MeCab\n",
    "import seaborn as sns\n",
    "import matplotlib.pyplot as plt\n",
    "\n",
    "mecab = MeCab()"
   ]
  },
  {
   "attachments": {},
   "cell_type": "markdown",
   "metadata": {},
   "source": [
    "## Train Dataset에 대한 Answer EDA"
   ]
  },
  {
   "cell_type": "code",
   "execution_count": 10,
   "metadata": {},
   "outputs": [
    {
     "data": {
      "image/png": "[encoded data removed]",
      "text/plain": [
       "<Figure size 800x500 with 1 Axes>"
      ]
     },
     "metadata": {},
     "output_type": "display_data"
    }
   ],
   "source": [
    "train_df = pd.DataFrame(train_dataset)\n",
    "train_df['answer_t'] = train_df['answers'].apply(lambda x: x['text'][0])\n",
    "answers = train_df.answer_t\n",
    "answers = answers.apply(preprocess)\n",
    "answers = train_df.answer_t.to_list()\n",
    "answers = [re.sub( r\"([^ㄱ-ㅎㅏ-ㅣ가-힣a-zA-Z\\d\\s\\.\\,\\!\\@\\#\\$\\%\\^\\&\\*\\(\\)\\[\\]\\_\\+\\-~])\",\"\",answer) for answer in answers]\n",
    "\n",
    "morphs = [mecab.pos(a) for a in answers]\n",
    "count_morphs = [len(m) for m in morphs]\n",
    "count_morphs= pd.DataFrame(count_morphs,columns=['count'])\n",
    "\n",
    "plt.figure(figsize = (8, 5))\n",
    "ax = sns.countplot(x=\"count\", data=count_morphs, color='steelblue')\n",
    "for patch in ax.patches:\n",
    "    ax.text(x = patch.get_x() + patch.get_width()/2,\n",
    "               y = patch.get_height() + len(count_morphs)*0.001,\n",
    "               s = int(patch.get_height()),\n",
    "               ha = 'center')\n",
    "plt.title(\"Answer\\'s morph count\")\n",
    "plt.show()"
   ]
  },
  {
   "cell_type": "code",
   "execution_count": 11,
   "metadata": {},
   "outputs": [
    {
     "data": {
      "image/png": "[encoded data removed]",
      "text/plain": [
       "<Figure size 800x500 with 1 Axes>"
      ]
     },
     "metadata": {},
     "output_type": "display_data"
    }
   ],
   "source": [
    "nouns = [mecab.nouns(a) for a in answers]\n",
    "count_nouns = [len(n) for n in nouns]\n",
    "count_nouns= pd.DataFrame(count_nouns,columns=['count'])\n",
    "\n",
    "plt.figure(figsize = (8, 5))\n",
    "ax = sns.countplot(x=\"count\", data=count_nouns, color='steelblue')\n",
    "for patch in ax.patches:\n",
    "    ax.text(x = patch.get_x() + patch.get_width()/2,\n",
    "               y = patch.get_height() + len(count_nouns)*0.001,\n",
    "               s = int(patch.get_height()),\n",
    "               ha = 'center')\n",
    "\n",
    "plt.title(\"Answer\\'s noun count\")\n",
    "plt.rc('font', size = 11)\n",
    "plt.show()\n"
   ]
  },
  {
   "attachments": {},
   "cell_type": "markdown",
   "metadata": {},
   "source": [
    "### 이때 명사가 포함되지 않은 정답은 어떻게 생겼는지?"
   ]
  },
  {
   "cell_type": "code",
   "execution_count": 27,
   "metadata": {},
   "outputs": [
    {
     "name": "stdout",
     "output_type": "stream",
     "text": [
      "Index([  26,   41,   50,  265,  311,  336,  345,  374,  425,  432,  498,  543,\n",
      "        595,  598,  646,  661,  705,  713,  732,  776,  854,  857,  939,  940,\n",
      "        972, 1133, 1139, 1170, 1231, 1285, 1302, 1305, 1447, 1481, 1511, 1517,\n",
      "       1546, 1591, 1651, 1713, 1763, 1782, 1839, 2013, 2063, 2138, 2255, 2281,\n",
      "       2347, 2363, 2440, 2458, 2465, 2498, 2501, 2559, 2580, 2727, 2730, 2755,\n",
      "       2773, 2842, 2861, 2869, 2871, 2888, 2917, 2992, 3060, 3071, 3182, 3183,\n",
      "       3259, 3280, 3337, 3356, 3376, 3379, 3419, 3439, 3488, 3521, 3538, 3555,\n",
      "       3558, 3566, 3581, 3596, 3602, 3624, 3693, 3774, 3819, 3822],\n",
      "      dtype='int64')\n"
     ]
    },
    {
     "data": {
      "text/plain": [
       "[[('215', 'SN'), ('km', 'SL')],\n",
       " [('NADPH', 'SL')],\n",
       " [('2002', 'SN')],\n",
       " [('트', 'VV'), ('랴', 'EC'), ('피', 'XR'), ('친', 'XSA+EC+JX')],\n",
       " [('끊김', 'VV+ETN')],\n",
       " [('하', 'VV'), ('라', 'EC')],\n",
       " [('마슈', 'VV+EP+EC')],\n",
       " [('Presocratics', 'SL')],\n",
       " [('3', 'SN')],\n",
       " [('LPAT', 'SL')],\n",
       " [('ㅋㅋㅋ', 'IC')],\n",
       " [('남', 'VV'), ('구', 'EC')],\n",
       " [('1053', 'SN')],\n",
       " [('범연', 'XR')],\n",
       " [('1908', 'SN')],\n",
       " [('안', 'MAG'), ('채', 'VV+EC')],\n",
       " [('2014', 'SN')],\n",
       " [('.', 'SY'), ('376', 'SN')],\n",
       " [('하', 'VV'), ('야', 'EC')],\n",
       " [('1994', 'SN')],\n",
       " [('2012', 'SN')],\n",
       " [('FEVE', 'SL')],\n",
       " [('603', 'SN')],\n",
       " [('놀리', 'VV'), ('기', 'ETN'), ('위해', 'VV+EC')],\n",
       " [('1801', 'SN')],\n",
       " [('하얀', 'VA+ETM')],\n",
       " [('S', 'SL')],\n",
       " [('1988', 'SN')],\n",
       " [('희', 'VA'), ('민', 'EC')],\n",
       " [('837', 'SN')],\n",
       " [('1097', 'SN')],\n",
       " [('22', 'SN')],\n",
       " [('3', 'SN')],\n",
       " [('0', 'SN'), ('.', 'SY'), ('18', 'SN'), ('mm', 'SL')],\n",
       " [('1995', 'SN')],\n",
       " [('퓌스콘', 'UNKNOWN')],\n",
       " [('3', 'SN'), ('kHz', 'SL')],\n",
       " [('FNC', 'SL')],\n",
       " [('SoC', 'SL')],\n",
       " [('1868', 'SN')],\n",
       " [('DIA', 'SL'), ('TV', 'SL')],\n",
       " [('Yoo', 'SL'), ('Doo', 'SL'), ('Right', 'SL')],\n",
       " [('5', 'SN')],\n",
       " [('5', 'SN')],\n",
       " [('1', 'SN'), (',', 'SC'), ('500', 'SN'), ('mg', 'SL')],\n",
       " [('LA', 'SL')],\n",
       " [('1', 'SN'), (',', 'SC'), ('030', 'SN'), ('m', 'SL')],\n",
       " [('NASA', 'SL')],\n",
       " [('Uraniborg', 'SL')],\n",
       " [('알', 'VV'), ('마', 'EC+VV'), ('그로', 'EC')],\n",
       " [('ab', 'SL'), ('-', 'SY'), ('ghooreh', 'SL')],\n",
       " [('SBS', 'SL')],\n",
       " [('Susan', 'SL'), ('Faludi', 'SL')],\n",
       " [('ILO', 'SL')],\n",
       " [('80', 'SN'), ('kmh', 'SL')],\n",
       " [('29', 'SN')],\n",
       " [('11', 'SN'), ('%', 'SY')],\n",
       " [('1966', 'SN')],\n",
       " [('4', 'SN')],\n",
       " [('1936', 'SN')],\n",
       " [('230', 'SN'), ('kmh', 'SL')],\n",
       " [('1', 'SN'), ('.', 'SY'), ('2', 'SN'), ('%', 'SY')],\n",
       " [('1727', 'SN')],\n",
       " [('1072', 'SN')],\n",
       " [('푼다', 'VV+EC')],\n",
       " [('DEC', 'SL'), ('사', 'VV+EC')],\n",
       " [('비단', 'MAG')],\n",
       " [('70', 'SN'), ('%', 'SY')],\n",
       " [('1997', 'SN')],\n",
       " [('SBS', 'SL')],\n",
       " [('1776', 'SN')],\n",
       " [('오르', 'VV'), ('도', 'EC')],\n",
       " [('1967', 'SN')],\n",
       " [('27', 'SN'), ('C', 'SL')],\n",
       " [('BBC', 'SL')],\n",
       " [('Burns', 'SL'), ('사', 'VV+EC')],\n",
       " [('170', 'SN'), ('cm', 'SL')],\n",
       " [('1793', 'SN')],\n",
       " [('한지', 'VV+EC')],\n",
       " [('굽', 'VV'), ('기', 'ETN')],\n",
       " [('KBO', 'SL')],\n",
       " [('38', 'SN'), (',', 'SC'), ('000', 'SN')],\n",
       " [('1', 'SN')],\n",
       " [('80', 'SN'), ('%', 'SY')],\n",
       " [('115', 'SN'), ('km', 'SL')],\n",
       " [('2006', 'SN')],\n",
       " [('212', 'SN')],\n",
       " [('bhat', 'SL'), ('-', 'SY'), ('ghum', 'SL')],\n",
       " [('20', 'SN'), ('km', 'SL')],\n",
       " [('The', 'SL'), ('Fry', 'SL'), ('Song', 'SL')],\n",
       " [('541', 'SN'), ('m', 'SL')],\n",
       " [('FN', 'SL'), ('M', 'SL'), ('1900', 'SN')],\n",
       " [('ICJ', 'SL')],\n",
       " [('존', 'VA'), ('맨', 'EC')]]"
      ]
     },
     "execution_count": 27,
     "metadata": {},
     "output_type": "execute_result"
    }
   ],
   "source": [
    "zero_noun = count_nouns[count_nouns['count'] == 0]\n",
    "zero_pos = []\n",
    "# print(zero_noun.index)\n",
    "for i in zero_noun.index:\n",
    "    zero_pos.append(mecab.pos(answers[i]))\n",
    "zero_pos"
   ]
  },
  {
   "cell_type": "code",
   "execution_count": 36,
   "metadata": {},
   "outputs": [
    {
     "name": "stdout",
     "output_type": "stream",
     "text": [
      "ㅋㅋ\n",
      "'ㅋㅋ'은 일반적으로 웃음소리를 표현할 때 사용된다. 통신체에서는 웃는 모습을 직접적으로 보여줄 수 없기 때문에 의성어를 사용하는 경우가 많은데 그 중에서 '킥킥', '큭큭'을 초성체로 바꾸어 사용한 것이 'ㅋㅋ'에 해당한다. 이에 대해 2001년 연구에서는 \"자음만 가지고 표시하여 통신상의 재미를 더하기 위한 방법으로 사용되고 있다\"고 해석한 바 있다. \\n\\nㅋ자를 웃음소리를 의미하는 것으로 사용할 때, 'ㅋ'자 한 개에서 'ㅋㅋㅋㅋㅋㅋㅋㅋㅋㅋ...'하는 식으로 열 타 이상 한 줄 넘게까지 쓰이기도 한다 ㅋ자를 얼마나 많이 썼느냐에 따라 그 느낌과 의미는 달라진다. 신조어를 전문으로 연구하는 이재현 문화평론가는 《한국일보》의 기고글에서 그 종류와 느낌이 대략 다음과 같다고 보았다\\n* ㅋ - 일반적으로 무심하게 동의하려는 상황에서 쓰인다. 다른 말끝에 붙였을 때, 이를테면 '그래ㅋ', '좋네ㅋ', '올ㅋ' 등은 웃음 자체라기보다는 입꼬리가 아주 살짝 올라간 상황이라는 느낌을 준다. 의성어로는 \"큭\" 혹은 \"킥\"으로 해석될 수 있다. 한편 '뭐해?ㅋ', '미안ㅋ'의 경우 'ㅋ'는 상투적인 군말의 역할을 한다.\\n* ㅋㅋ - 위의 것보다 ㅋ자가 하나가 더 많으나 오히려 형식적이라는 느낌을 준다. 좋게는 '그렇군'을 뜻하거나, 조금 나쁘게는 대화상에서 의례적으로 추임새를 넣고 있다는 느낌을 준다. 'ㅋㅋ'은 미혼남녀들이 가장 싫어하는 성의 없는 메신저 말투로 선정되기도 했다. 다만 회사 상사에게 대답하는 경우 같은 공적인 상황에서는 '네ㅋㅋ'와 같은 대답은 가벼워 보인다는 조사도 있었다. \\n* ㅋㅋㅋ - 비교적 중립적이면서도 가장 많이 사용되는 용법이다. 웃는 감정을 그대로 표현한다는 뉘앙스를 갖는다.\\n* ㅋㅋㅋㅋ... - 여기서부터는 \"정말 웃긴다\"라는 반응을 나름 정성들여서 표현하는 느낌을 준다. 네 개부터 그 이상은 의미의 함축과 정서의 강도가 거의 같으며, 이런 점에서 'ㅋㅋㅋㅋ'는 실질적으로 웃긴다는 것을 표현하는 최소 조건에 해당한다.\n",
      "웃는 감정을 그대로 표현한다는 뉘앙스를 갖는 ㅋ의 용법은?\n",
      "['ㅋㅋㅋ']\n"
     ]
    },
    {
     "data": {
      "text/plain": [
       "792"
      ]
     },
     "execution_count": 36,
     "metadata": {},
     "output_type": "execute_result"
    }
   ],
   "source": [
    "check_row = train_df.loc[498]\n",
    "print(check_row.title)\n",
    "print(check_row.context)\n",
    "print(check_row.question)\n",
    "print(check_row.answers[\"text\"])\n",
    "check_row.context.find(\"ㅋㅋㅋ \")"
   ]
  },
  {
   "cell_type": "code",
   "execution_count": 32,
   "metadata": {},
   "outputs": [
    {
     "name": "stdout",
     "output_type": "stream",
     "text": [
      "대한민국의 온라인 개학\n",
      "온라인 개학을 함으로써 기술의 발전을 앞당겨 줄 수도 있다는 시각이 있다.\\n\\nEBS 온라인 클래스는 초기 기술이 좋지 않아 2020년 4월 기준으로 매일 수 시간씩 접속이 원활하지 않았다. 불안정한 시스템으로 인한 접속 장애와 속도 저하, 영상 끊김이 초기에 지적되었으며 이후 EBS온라인클래스는 급격히 안정화되면서 끊김이 없어졌다. \\n\\n또한 인터넷 강의와 다를 것이 없어 실제 수업보다 집중하기 어려운 환경이라는 지적도 있다. 공부에 의욕이 있는 사람만 하는 학습. 시스템의 오류로 강의를 모두 다 들어도 완료 표시가 뜨지 않을 때가 있다. 그렇다면 다시 새로고침하거나, 브라우저를 바꾸어 보거나, 동시간대 접속자가 적은 시간대를 골라서 들어가는 법이 있다.\\n\\n온라인 수업을 하고도 중간고사를 보는 학교가 있다. 온라인 수업은 실제 학교 수업보다는 효과가 떨어지기 때문에, 선행을 하지 않은 학생은 발등에 불이 떨어진 셈이다. \\n\\n온라인 수업 시스템에 허점도 있어, 명령어 하나로 '학습 완료' 로 처리되었다. 이 명령어가 SNS상에서 퍼지며 이걸 악용하는 학생들이 늘고 있다. 현재는 부정 수강으로 처리된다.\\n\\n학생들의 시력에 대한 논란이 있다. 하루 종일 모니터를 보고 있는 것에 대해 시력 저하에 대해 우려하는 사람들이 많아지고 있다.\n",
      "초창기 EBS온라인클래스의 문제들 중 빠른 속도로 시스템이 안정되면서 해결된 문제점은?\n",
      "['끊김']\n"
     ]
    }
   ],
   "source": [
    "check_row = train_df.loc[311]\n",
    "print(check_row.title)\n",
    "print(check_row.context)\n",
    "print(check_row.question)\n",
    "print(check_row.answers[\"text\"])"
   ]
  },
  {
   "attachments": {},
   "cell_type": "markdown",
   "metadata": {},
   "source": [
    "## Train+Validation Dataset에 대한 Answer EDA"
   ]
  },
  {
   "cell_type": "code",
   "execution_count": 38,
   "metadata": {},
   "outputs": [
    {
     "data": {
      "image/png": "[encoded data removed]",
      "text/plain": [
       "<Figure size 800x500 with 1 Axes>"
      ]
     },
     "metadata": {},
     "output_type": "display_data"
    }
   ],
   "source": [
    "total_df = pd.DataFrame(train_dataset)\n",
    "total_df = pd.concat([total_df, pd.DataFrame(val_dataset)])\n",
    "total_df.reset_index(drop=True, inplace=True)\n",
    "total_df['answer_t'] = total_df['answers'].apply(lambda x: x['text'][0])\n",
    "answers = total_df.answer_t\n",
    "answers = answers.apply(preprocess)\n",
    "answers = total_df.answer_t.to_list()\n",
    "answers = [re.sub( r\"([^ㄱ-ㅎㅏ-ㅣ가-힣a-zA-Z\\d\\s\\.\\,\\!\\@\\#\\$\\%\\^\\&\\*\\(\\)\\[\\]\\_\\+\\-~])\",\"\",answer) for answer in answers]\n",
    "\n",
    "answers #= answers\n",
    "mecab = MeCab()\n",
    "morphs = [mecab.pos(a) for a in answers]\n",
    "count_morphs = [len(m) for m in morphs]\n",
    "count_morphs= pd.DataFrame(count_morphs,columns=['count'])\n",
    "\n",
    "plt.figure(figsize = (8, 5))\n",
    "ax = sns.countplot(x=\"count\", data=count_morphs, color='steelblue')\n",
    "for patch in ax.patches:\n",
    "    ax.text(x = patch.get_x() + patch.get_width()/2,\n",
    "               y = patch.get_height() + len(count_morphs)*0.001,\n",
    "               s = int(patch.get_height()),\n",
    "               ha = 'center')\n",
    "    \n",
    "plt.title(\"Answer\\'s morph count\")\n",
    "plt.show()"
   ]
  },
  {
   "cell_type": "code",
   "execution_count": 39,
   "metadata": {},
   "outputs": [
    {
     "data": {
      "image/png": "[encoded data removed]",
      "text/plain": [
       "<Figure size 800x500 with 1 Axes>"
      ]
     },
     "metadata": {},
     "output_type": "display_data"
    }
   ],
   "source": [
    "nouns = [mecab.nouns(a) for a in answers]\n",
    "count_nouns = [len(n) for n in nouns]\n",
    "count_nouns= pd.DataFrame(count_nouns,columns=['count'])\n",
    "\n",
    "plt.figure(figsize = (8, 5))\n",
    "ax = sns.countplot(x=\"count\", data=count_nouns, color='steelblue')\n",
    "for patch in ax.patches:\n",
    "    # 2개의 patch 값을 가짐\n",
    "    ax.text(x = patch.get_x() + patch.get_width()/2,\n",
    "               y = patch.get_height() + len(count_nouns)*0.001,\n",
    "               s = int(patch.get_height()),\n",
    "               ha = 'center')\n",
    "\n",
    "plt.title(\"Answer\\'s noun count\")\n",
    "plt.rc('font', size = 11)\n",
    "plt.show()"
   ]
  },
  {
   "attachments": {},
   "cell_type": "markdown",
   "metadata": {},
   "source": [
    "### 결론\n",
    "- answer은 대체로 1~2개의 토큰으로 이루어져 있음. (즉 answer 대체로 하나의 단어)\n",
    "- answer은 대체로 명사\n",
    "    - 한개의 명사 단어로 이루어진 정답의 비율이 가장 높음\n",
    "    - 대체로 명사 1~2개로 이루어짐\n",
    "- 명사가 포함되어있지 않은 정답의 경우\n",
    "    1. 숫자 (+단위)\n",
    "    2. 잘 모르는 용어\n",
    "    3. (etc) \"ㅋㅋㅋ\" "
   ]
  },
  {
   "attachments": {},
   "cell_type": "markdown",
   "metadata": {},
   "source": [
    "# TOKENIZER"
   ]
  },
  {
   "attachments": {},
   "cell_type": "markdown",
   "metadata": {},
   "source": [
    "## 기존 토크나이저의 성능을 눈으로 체크 \n",
    "형태소 단위로 잘 쪼개는지 한번 보자"
   ]
  },
  {
   "cell_type": "code",
   "execution_count": 41,
   "metadata": {},
   "outputs": [],
   "source": [
    "bef_tokenizer = AutoTokenizer.from_pretrained(\n",
    "    \"KoichiYasuoka/roberta-base-korean-morph-upos\",\n",
    "    use_fast=False,\n",
    ")"
   ]
  },
  {
   "cell_type": "code",
   "execution_count": 42,
   "metadata": {},
   "outputs": [
    {
     "data": {
      "text/plain": [
       "'이 문서는 나라 목록이며, 전 세계 206개 나라의 각 현황과 주권 승인 정보를 개요 형태로 나열하고 있다.\\n\\n이 목록은 명료화를 위해 두 부분으로 나뉘어 있다.\\n\\n# 첫 번째 부분은 바티칸 시국과 팔레스타인을 포함하여 유엔 등 국제 기구에 가입되어 국제적인 승인을 널리 받았다고 여기는 195개 나라를 나열하고 있다.\\n# 두 번째 부분은 일부 지역의 주권을 사실상 (데 팍토) 행사하고 있지만, 아직 국제적인 승인을 널리 받지 않았다고 여기는 11개 나라를 나열하고 있다.\\n\\n두 목록은 모두 가나다 순이다.\\n\\n일부 국가의 경우 국가로서의 자격에 논쟁의 여부가 있으며, 이 때문에 이러한 목록을 엮는 것은 매우 어렵고 논란이 생길 수 있는 과정이다. 이 목록을 구성하고 있는 국가를 선정하는 기준에 대한 정보는 \"포함 기준\" 단락을 통해 설명하였다. 나라에 대한 일반적인 정보는 \"국가\" 문서에서 설명하고 있다.'"
      ]
     },
     "execution_count": 42,
     "metadata": {},
     "output_type": "execute_result"
    }
   ],
   "source": [
    "context[0]['text']"
   ]
  },
  {
   "cell_type": "code",
   "execution_count": 43,
   "metadata": {},
   "outputs": [
    {
     "name": "stdout",
     "output_type": "stream",
     "text": [
      "토크나이저와 형태소 분석기 결과를 비교합니다 \n",
      "\n",
      ">> text data : 이 문서는 나라 목록이며, 전 세계 206개 나라의 각 현황과 주권 승인 정보를 개요 형태로 나열하고 있다.  이 목록은 명료화를 위해 두 부분으로 나뉘어 있다.  # 첫 번째 부분은 바티칸 시국과 팔레스타인을 포함하여 유엔 등 국제 기구에 가입되어 국제적인 승인을 널리 받았다고 여기는 195개 나라를 나열하고 있다. # 두 번째 부분은 일부 지역의 주권을 사실상 (데 팍토) 행사하고 있지만, 아직 국제적인 승인을 널리 받지 않았다고 여기는 11개 나라를 나열하고 있다.  두 목록은 모두 가나다 순이다.  일부 국가의 경우 국가로서의 자격에 논쟁의 여부가 있으며, 이 때문에 이러한 목록을 엮는 것은 매우 어렵고 논란이 생길 수 있는 과정이다. 이 목록을 구성하고 있는 국가를 선정하는 기준에 대한 정보는 \"포함 기준\" 단락을 통해 설명하였다. 나라에 대한 일반적인 정보는 \"국가\" 문서에서 설명하고 있다.\n",
      ">> tokenizer : ['이', '문서', '는', '나라', '목록', '이', '며', ',', '전', '세계', '206', '개', '나라', '의', '각', '현황', '과', '주권', '승인', '정보', '를', '개요', '형태', '로', '나열', '하고', '있', '다', '.', '이', '목록', '은', '명료', '화', '를', '위해', '두', '부분', '으로', '나뉘', '어', '있', '다', '.', '', '첫', '번', '째', '부분', '은', '바티칸', '시국', '과', '팔레스타인', '을', '포함', '하여', '유엔', '등', '국제', '기구', '에', '가입', '되', '어', '국제', '적인', '승인', '을', '널리', '받', '았', '다고', '여기', '는', '195', '개', '나라', '를', '나열', '하고', '있', '다', '.', '', '두', '번', '째', '부분', '은', '일부', '지역', '의', '주권', '을', '사실상', '(', '데', '팍', '토', ')', '행사', '하고', '있', '지만', ',', '아직', '국제', '적인', '승인', '을', '널리', '받', '지', '않', '았', '다고', '여기', '는', '11', '개', '나라', '를', '나열', '하고', '있', '다', '.', '두', '목록', '은', '모두', '가나', '다', '순이', '다', '.', '일부', '국가', '의', '경우', '국가', '로', '서', '의', '자격', '에', '논쟁', '의', '여부', '가', '있', '으며', ',', '이', '때문', '에', '이러', '한', '목록', '을', '엮', '는', '것', '은', '매우', '어렵', '고', '논란', '이', '생길', '수', '있', '는', '과정', '이다', '.', '이', '목록', '을', '구성', '하고', '있', '는', '국가', '를', '선정', '하', '는', '기준', '에', '대한', '정보', '는', '\"', '포함', '기준', '\"', '단락', '을', '통해', '설명', '하', '였', '다', '.', '나라', '에', '대한', '일반', '적인', '정보', '는', '\"', '국가', '\"', '문서', '에서', '설명', '하고', '있', '다', '.']\n",
      ">> morph     : ['이', '문서', '는', '나라', '목록', '이', '며', ',', '전', '세계', '206', '개', '나라', '의', '각', '현황', '과', '주권', '승인', '정보', '를', '개요', '형태', '로', '나열', '하', '고', '있', '다', '.', '이', '목록', '은', '명료', '화', '를', '위해', '두', '부분', '으로', '나뉘', '어', '있', '다', '.', '#', '첫', '번', '째', '부분', '은', '바티칸', '시국', '과', '팔레스타인', '을', '포함', '하', '여', '유엔', '등', '국제', '기구', '에', '가입', '되', '어', '국제', '적', '인', '승인', '을', '널리', '받', '았', '다고', '여기', '는', '195', '개', '나라', '를', '나열', '하', '고', '있', '다', '.', '#', '두', '번', '째', '부분', '은', '일부', '지역', '의', '주권', '을', '사실', '상', '(', '데', '팍토', ')', '행사', '하', '고', '있', '지만', ',', '아직', '국제', '적', '인', '승인', '을', '널리', '받', '지', '않', '았', '다고', '여기', '는', '11', '개', '나라', '를', '나열', '하', '고', '있', '다', '.', '두', '목록', '은', '모두', '가', '나다', '순', '이', '다', '.', '일부', '국가', '의', '경우', '국가', '로서', '의', '자격', '에', '논쟁', '의', '여부', '가', '있', '으며', ',', '이', '때문', '에', '이러', '한', '목록', '을', '엮', '는', '것', '은', '매우', '어렵', '고', '논란', '이', '생길', '수', '있', '는', '과정', '이', '다', '.', '이', '목록', '을', '구성', '하', '고', '있', '는', '국가', '를', '선정', '하', '는', '기준', '에', '대한', '정보', '는', '\"', '포함', '기준', '\"', '단락', '을', '통해', '설명', '하', '였', '다', '.', '나라', '에', '대한', '일반', '적', '인', '정보', '는', '\"', '국가', '\"', '문서', '에서', '설명', '하', '고', '있', '다', '.']\n"
     ]
    }
   ],
   "source": [
    "from mecab import MeCab\n",
    "\n",
    "mecab = MeCab()\n",
    "print(\"토크나이저와 형태소 분석기 결과를 비교합니다 \\n\")\n",
    "print(\">> text data :\",context[0]['text'].replace('\\n',' '))\n",
    "\n",
    "# print(\"tokenizer :\",bef_tokenizer.tokenize(context[0]['text']))\n",
    "tt = bef_tokenizer.tokenize(context[0]['text'])\n",
    "tt = [t.replace('#','') for t in tt]\n",
    "print(\">> tokenizer :\",tt)\n",
    "print(\">> morph     :\", mecab.morphs(context[0]['text']))"
   ]
  },
  {
   "attachments": {},
   "cell_type": "markdown",
   "metadata": {},
   "source": [
    "**눈으로 확인한 결과 분석**\n",
    "- 형태소 분석기와 토크나이저의 토큰화 결과가 유사함.\n",
    "- 차이점은 형태소 분석기가 어미를 좀 더 세밀하게 나누는 것 정도?\n",
    "    - ex. 토크나이저 : '하고', '있', '다' / 형태소분석기 : '하', '고', '있', '다'\n",
    "    - retriever 성능 상으로는 토크나이저가 더 나을 것으로 예상됨<br>\n",
    "    (critical한 부분이 아닐 뿐 아니라 너무 세밀하게 쪼개기 보다는 어떤 명사를 하나의 토큰으로 제대로 인식하는 것이 retrieval 성능에 더 좋을 것이라 생각하기 때문)\n",
    "\n",
    "### 결론\n",
    "- 기존의 `KoichiYasuoka/roberta-base-korean-morph-upos` tokenizer 에 answer에 등장한 명사를 새로운 vocab으로 추가해보자"
   ]
  },
  {
   "attachments": {},
   "cell_type": "markdown",
   "metadata": {},
   "source": [
    "## Add new vocab"
   ]
  },
  {
   "cell_type": "code",
   "execution_count": 47,
   "metadata": {},
   "outputs": [
    {
     "data": {
      "text/plain": [
       "56737"
      ]
     },
     "execution_count": 47,
     "metadata": {},
     "output_type": "execute_result"
    }
   ],
   "source": [
    "# load tokenizer vocab\n",
    "f = open(\"./vocab.txt\", 'r')\n",
    "lines = f.readlines()\n",
    "vocab = []\n",
    "for line in lines:\n",
    "    line = line.strip()  # 줄 끝의 줄 바꿈 문자 제거\n",
    "    vocab.append(line)\n",
    "f.close()\n",
    "\n",
    "len(context)"
   ]
  },
  {
   "cell_type": "code",
   "execution_count": 49,
   "metadata": {},
   "outputs": [],
   "source": [
    "answer_n = []\n",
    "for n in nouns:\n",
    "    answer_n.extend(n)\n",
    "\n",
    "answer_n = list(set(answer_n))\n",
    "len(answer_n)\n",
    "\n",
    "add_noun = []\n",
    "for noun in answer_n: \n",
    "    if noun not in vocab: \n",
    "        # print(noun)\n",
    "        add_noun.append(noun)"
   ]
  },
  {
   "cell_type": "code",
   "execution_count": 50,
   "metadata": {},
   "outputs": [
    {
     "name": "stdout",
     "output_type": "stream",
     "text": [
      "1843\n"
     ]
    }
   ],
   "source": [
    "print(len(add_noun))\n",
    "\n",
    "# 텍스트 파일 경로 및 이름 지정\n",
    "file_path = \"../new_vocab.txt\"\n",
    "\n",
    "# 리스트의 문장을 텍스트 파일에 저장\n",
    "with open(file_path, \"w\") as file:\n",
    "    file.write(\" \".join(add_noun))\n"
   ]
  },
  {
   "cell_type": "code",
   "execution_count": 53,
   "metadata": {},
   "outputs": [
    {
     "name": "stdout",
     "output_type": "stream",
     "text": [
      "['캐니언', '피사로', '히포크라테스', '아우랑제브', '펩티드', '코마', '요하네스', '몸속', '명진', '북청']\n"
     ]
    }
   ],
   "source": [
    "# check new vocab\n",
    "file_path = \"/opt/ml/input/level2_nlp_mrc-nlp-03-1/code/retriever/new_vocab.txt\"\n",
    "\n",
    "with open(file_path, \"r\") as file:\n",
    "    new_vocab = file.readline()\n",
    "\n",
    "new_vocab = new_vocab.split()\n",
    "print(new_vocab[:10])\n"
   ]
  },
  {
   "cell_type": "code",
   "execution_count": 56,
   "metadata": {},
   "outputs": [
    {
     "name": "stdout",
     "output_type": "stream",
     "text": [
      "1\n",
      "['캐니언', '피사로', '히포크라테스', '아우랑제브', '펩티드', '코마', '몸속', '명진', '프리맨', '어파', '필리포스', '스티네', '크리크', '번디', '오누', '곽준', '바리사이파', '에드워', '상대론', '익사', '코다', '천인', '헐리우드', '후일라', '청부업자', '우주제국', '인디고', '알프레드', '김동인', '요업', '포에니', '병단', '뭄타즈마할', '천관우', '훈고학', '디나르', '화강암', '내만', '왕명', '민병대', '장헌', '문장대', '강녕전', '레이놀즈', '크로우', '첸노트', '초나라', '드라이아이스', '연대장', '유길준', '스티번', '호른', '신미', '드레스덴', '엔강', '뉴캐슬', '이효상', '안굿', '장로교', '올림픽기', '상공업', '아부카말', '김학규', '니케아', '천년기', '네드', '배달원', '이잔', '알키비아데스', '놀린', '메카닉', '위략', '우이동', '율리우스', '구축함', '분류학', '로던', '치음', '뉘노르스크', '특수부대', '칼로스', '총사령관', '황갈색', '아드리안', '제부', '네스트', '와창', '페르미', '두에', '글래스', '플로린', '맨더', '아우구스트', '부르크', '단군릉', '새러', '그린필드', '시냅스', '카탈루냐', '연남생', '직류', '봉분', '앤더스', '탕롱', '새뮤얼', '도깨비방망이', '토리당', '고비사막', '비딘', '조년', '김교성', '긴모치', '탄트', '루빈', '섹터', '체사레', '채제공', '스테인리스강', '집지', '강장', '벵', '라테라노', '프록터', '샤푸르', '킬리키아', '스펠', '레오니다스', '전남편', '이기룡', '보호구', '틸던', '서사하라', '알서포트', '식산흥업', '세르기우스', '고문서', '심리사', '오딘', '마르세유', '베역', '별사이', '추력', '수산화', '가극', '교목', '베케트', '코난', '조개류', '화양', '마병', '간병인', '토비아스', '루치아니', '조선중앙일보', '돌산', '옌안', '회령시', '순치제', '그라스', '니호', '평창군', '파싱', '당랑', '사천왕문', '페르디난트', '저격병', '프레슬리', '울레', '초대질량', '원술', '목성', '강북구', '여운홍', '복지겸', '주니치', '화청지', '베링', '뮤온', '세자빈', '버틀러', '메니온', '사영', '오오츠카', '가호', '여권법', '조충', '중화민국', '서동우', '길피', '동슬라브', '살리카', '쿠에', '트로프', '세키가하라', '공작위', '헤이든', '파텔', '갈고리', '프라다', '약혼녀', '쿨라', '가우스', '초주', '왕대', '내외분', '소테', '머시아', '박일', '프탈', '사마의', '오배넌', '철사', '하이드로', '음독자살', '디엔비엔푸', '사배', '후년', '리플리', '국회의사당', '수비대', '나기브', '대기후', '도메니코', '아레스', '난류', '하자르', '레이튼', '보살상', '드웨이', '바순', '영춘', '양태수', '고케닌', '서학', '구드', '말자', '타르디니', '리니어', '의림', '동방삭', '섭입', '클리프플로이드', '대구경', '패잔병', '피토', '묘우', '앤젤', '대식', '하라타', '능우', '에펠', '노킹', '버르', '버락오바마', '막달레나', '황성신문', '지상권', '부음', '어록', '황장엽', '영락제', '드래곤스', '곡릉천', '포자', '방위대', '보니파시오', '아스테카', '귀납법', '해왕성', '코이', '약광', '오르가슴', '기스트', '고빈다', '누르하치', '이정숙', '정찰대', '히키코모리', '존볼턴', '코메디', '쓰시마', '잉카', '상트페테르부르크', '글레이저', '수호자', '부르고뉴', '피론', '도로법', '준결승전', '게르만', '독트린', '버들잎', '투으룰', '토착민', '얀츠', '포병', '피질', '오이시다이지로', '선평', '사이온지', '플뢰르', '포카스', '건곤일척', '학림', '게이트웨이', '매리너', '콜리플라워', '유격대', '명령형', '베르길리우스', '얼레공', '태프트', '정암', '인안나', '이샤크', '예허', '위버르', '장존', '노적가리', '티코브라헤', '계강', '복강', '케플러', '티탄', '안토니우스', '이정은', '소매치기', '브래들리', '지동설', '톰프슨', '로스시', '다구치', '빗살', '타이아', '필그림', '육군사관학교', '체벽', '우비', '니모', '레이너', '토니그윈', '푸카키', '충청북도', '일심동체', '용정', '보코', '크테시폰', '영산회상', '실존주의', '나카지마', '메로', '청산염', '식고', '무데하르', '감응', '조토디본도네', '아민타스', '악사', '일리노이', '트로츠키주의', '노르만', '해관', '티온', '방송계', '페르난도', '혜문왕', '파즈', '청용설란', '러일', '퀴리', '알자르카위', '서일본', '흥륜사', '샤아', '나르세스', '대류', '석가여래', '홀더', '남지기', '일리리아', '사족', '가토', '철퇴', '감지기', '절도사', '북태평양', '예테보리', '망나니', '김수환', '삼라', '에스파뇰', '조세르', '말리크', '별건곤', '조흔', '흰개미', '글라이더', '치과의', '완부', '프린스', '주디스', '프리오', '필즈', '삿사', '비로자나불', '호루스', '드미트리', '로버트케네디', '재단법인', '마르텔', '러브크래프트', '동군', '부황', '성물', '칼루', '기생파리', '이박사', '히로시', '파니니', '코브라', '스미토모', '김경조', '유금', '초승달', '대막리지', '아프로디테', '바투미', '겜', '와일드캣', '김민규', '발도니', '에티켓', '포전', '안료', '휘종', '호지킨', '삼세불', '호그와트', '야시로', '딜스', '마리야', '오버헤드', '슘페터', '호군', '브린', '청진기', '타작', '연꽃잎', '현삼과', '보리스옐친', '이노우에', '경우궁', '패왕', '컴프레서', '아황', '유영복', '제화', '시고', '군산시', '선친', '야즈즈', '크라쿠프', '콘스탄차', '태황제', '윤극영', '장제스', '흑요석', '윤보선', '다코타', '정교회', '실턴', '멘델', '모용희', '슬라브', '마거릿', '스코벨', '다르시', '아열대', '셀리나', '라프', '기욤', '튀르고', '튀르크', '총석', '유스티니아누스', '마커', '판동', '메메트', '권동진', '우전왕', '엄고', '코린토스', '조선영', '마도요', '구교도', '화대군', '지기스문트', '점인', '겐로쿠', '건단', '임개', '전용하', '표훈사', '볼셰비키', '폴리네시아', '영기', '의열단', '후장', '고드', '나리타', '라치오', '플렉트럼', '군법회의', '미노', '국사학', '셋톱박스', '살가죽', '초일기', '베들레헴', '분수대', '새천년민주당', '트라키아', '아이히만', '반원형', '안티오코스', '제항', '에르빈롬멜', '데마', '영성체', '마나미', '원령', '피레아스', '추토', '일본공산당', '사일러스', '김삼룡', '아소다로', '해적단', '프레이야', '데이즈', '골슨', '정세운', '이에야스', '이토히로부미', '오스틴', '알렉산드로스', '인공수정', '월일', '인포머', '말발굽', '파이스', '버트런드러셀', '칼스', '타칼', '정성공', '모토시', '소작제', '이집트인', '인천광역시', '임호', '라이온스', '계양군', '히데지', '공화정', '코아', '고르바초프', '김복영', '산출량', '미쓰오', '궁마', '정병욱', '물주', '선조실록', '무장기', '쇼코', '건안', '워렌', '황자', '고흥군', '직사각형', '루공', '메그', '아키노', '에이릭손', '인돌', '리처드파인만', '에모리', '닐센', '양치식물', '억년', '군종', '정난정', '가라후토', '토란', '혼간지', '리지', '단세포', '모굴', '아남극', '허부', '케랄라주', '가설료', '하루오', '교회사', '손견', '전어', '수메르', '장시성', '독장', '이사벨', '오타쿠', '리우스', '고대인', '위부', '보르자', '반아', '가로줄', '피루브산', '라루스', '앙투안', '여객철도', '개혁파', '약회', '보헤미아', '연기구름', '데나리우스', '간일', '왕봉', '아미타불', '텔라비', '시크족', '윤웅렬', '멜란지', '아리우스', '민주사회당', '연남건', '롤프', '흑색토', '경례', '히기', '진청', '구우', '헤르타', '초조대장경', '물리학상', '지례', '고대사', '월리스', '모터카', '에리트레아', '간토', '엇박자', '여초', '황충', '테티스', '금색', '북동부', '티무르', '마이트', '표트르', '루시타니아', '작장', '진중권', '암리', '인종주의', '횃불', '제리양', '스테파니', '인요', '헤로인', '아자타샤트루', '트리케라톱스', '체임벌린', '발파라이소', '토벌대', '쇼에이', '리바이벌', '플로렌스', '조비', '박달나무', '사라센', '카무', '보이저', '유전학', '세바스토폴', '이의철', '브리타니아', '슈테', '맨스필드', '헬륨', '피아트', '일개미', '에마누엘레', '야코프', '프로페서', '신생명', '루세', '구두약', '장안리', '슈코르체니', '조나라', '담세', '미네소타주', '시어도어', '파트리크', '지고', '미하일', '메이플라워호', '네다', '지연작전', '아베스', '큐어', '파충류', '조왕', '한중록', '공양왕', '파브리스', '주벌', '쾰른', '최명길', '하이랜더', '위표', '싯테', '요하네스브람스', '판테온', '매켈런', '번장', '현성', '아테나', '나사로', '버시', '샛길', '라피아', '소부', '푸가초프', '네우스', '도쿠가와', '관룡사', '기카', '박윤선', '온세', '콘월', '바토리', '설인귀', '느헤미야', '탯줄', '영양물', '합의부', '남평', '프로야구단', '크로노스', '길버트', '문관', '사나에', '평사낙안', '암회색', '엑스맨', '성왕', '에른', '로동', '프랜시스', '빌렘', '케니', '데포르티보', '르베이', '셔우드', '혜종', '황도', '궤양', '절도죄', '점성술', '리엘', '난독', '로스엔젤레스', '네안데르탈인', '뽕짝', '저잣거리', '감선', '동화사', '석구조', '온타리오호', '강대련', '봉건제', '오피', '경건주의', '중간층', '나리마사', '스루', '주법', '남행', '타파스', '조증', '자장율사', '북양', '어퍼', '진출권', '디트리히', '나세르', '유화제', '보노', '창경궁', '소천굴', '돌다리', '펠로피다스', '제어판', '비드', '보리사브요비치', '와다', '근일점', '베벨', '척추뼈', '원경식', '크리드', '영포', '결막', '김현정', '블레셋', '외환죄', '외할아버지', '바고', '독액', '아르투로', '항성', '소염기', '구양수', '스크릴렉스', '루트킷', '팬텀', '석등', '카르틀리', '하나다', '왈드', '김규식', '중성자', '라드', '대전제', '김선명', '중농주의', '윤원로', '노수', '요하네스케플러', '포필', '혈청', '군의', '사르다', '네오프톨레모스', '테트라', '구로카와', '수면학습', '전명기', '우드로', '장경근', '지아니니', '돌멘', '안음', '동국여지승람', '클로스', '샤리', '크라머', '래드', '중립국', '마일스', '다이묘', '캠밸', '괴팅', '이홍장', '안티오키아', '괭이갈매기', '디언', '사가미', '대정', '다롄', '스톤스', '국경일', '앵글로색슨', '감꼭지', '리시', '누마', '지장보살', '중매', '새들', '시라쿠사', '아버스놋', '몬테스', '내각제', '조광운', '니치', '물자체', '다블뤼', '기계공', '마리우스', '도나', '도르곤', '바스트', '가톨릭교회', '헬렌헤이즈', '급살', '김종익', '비센테델보스케', '마그니', '와카야마', '수스', '루이지', '구문론', '양읍', '후지가오카', '자기방어', '카파도키아', '주이치', '석총', '북베트남', '기동력', '과격파', '발렌티니', '홍해', '투나', '합금', '툴루즈', '헬름', '러브호텔', '고사기', '사파티', '히데키', '유고슬라비아', '강학', '잇시키', '켈라', '흥업', '미티스', '영선', '록지', '러트렐', '엔다', '아나키스트', '남북조', '젤너', '여전사', '우간', '안노', '수막염', '사우스햄턴', '소노', '우웨이', '제록스', '클라우스마이네', '하석주', '관인', '악우', '대순', '우무', '갈라바', '볼러', '마렉', '프티', '피델카스트로', '프리메이슨', '트롱프뢰유', '이기혁', '프란체스코', '설법', '근초고왕', '살생부', '게이지', '아오모리현', '커크', '카스트로', '김옥경', '하람', '슈뢰딩거', '조판', '박준원', '북위', '코일', '이스터섬', '행업', '보병대', '흑두병', '엣추', '호족', '훈련대', '솔방울', '장토', '세이부', '박경화', '액도', '헬싱', '고헤이', '오와리', '켈리스', '아케르나르', '부군', '비크', '아미르', '물범', '핑둥현', '정운현', '무레', '압델', '트리톤', '노무라', '박종철', '투키디데스', '전의식', '뒷자리', '칼레', '하타모토', '해서웨이', '호프만', '총감', '쇼윈도', '곡리', '사리사', '석불', '구스타프', '쿠빌라이', '윈터스', '라이엘', '파라디', '이아손', '경수로', '라게', '멘셰비키', '퓌스텔', '유클리드', '말고기', '케라', '이훈성', '홍무제', '색대리석', '하세가와', '마쓰마에', '펠릿', '왕세충', '임봉주', '트롤', '매립장', '성삼위', '키요', '군정청', '박영효', '플라워즈', '도독', '몰타', '판식', '도에이', '요안', '박영환', '랭스', '고모리', '시나이반도', '브레히트', '아랍인', '촘베', '해롤드', '준장', '황푸', '프란츠', '기아스', '와세다', '월머', '바르샤바', '해곡', '동탑', '네프', '림프종', '스톡홀름', '교안', '크리세스', '아리안', '청화', '우마이야조', '이만섭', '오키다이토', '여오현', '앵베르', '사할린섬', '왕만두', '일후', '코리', '악부', '법상종', '테루', '플로리다주', '알렉산드로스대왕', '남십자성', '소을', '랭커셔', '데메트리우스', '강덕상', '위클리프', '말콤', '동체', '체틴', '펠리페', '위위', '급진주의', '유틀란트', '리타', '왕식', '렌야', '윈스턴', '국민주', '폼필리우스', '도널드트럼프', '전동기', '메테르니히', '사헌부', '군협', '답변서', '류승렬', '닥종이', '동학사', '박재훈', '우인', '강희제', '사라예보', '실증주의', '제해권', '칠기', '크리슈나', '바이오스', '바리오', '발라즈', '변성제', '비품', '더글러스', '라이프치히', '사이토마코토', '경교장', '링커', '삼중주', '보아스', '오에', '가시광선', '동일본', '헤르만', '샤흐트', '롱기누스', '부레', '뢰브', '밀정', '포셋', '로드아일랜드주', '게양', '먹장어', '이단하', '오카자키', '알몬드', '넬리', '복위', '아리야', '대청댐', '루아르계곡', '타어', '이기문', '호베르투카를루스', '발메', '익스플로러', '고기만두', '속행', '아이치', '결핵균', '엑소더스', '매킨토시', '최장수', '결가부좌', '랄라', '드라비다', '불카누스', '한독당', '풍도', '다테', '대사헌', '제번', '기원후', '동구권', '켄고', '최면술', '가우', '행선', '테네시', '이란고원', '코바', '임수정', '적혈구', '체임버스', '선각', '윤선거', '타르타로스', '국제주의', '네케르', '마르코프', '베디', '하카', '샤자한', '선언식', '메밀국수', '토머스제퍼슨', '이로마', '아시라프', '총영사관', '중개인', '웡원하오', '임실군', '힐러리클린턴', '연대표', '구루', '환류', '정현파', '귈', '석이버섯', '무하마드', '망덕', '년하', '탈력', '경석', '양민', '유키히로', '월단', '만금', '테레비', '포커', '치록', '괴팅겐', '독시', '뉴헤브리디스', '면방', '동로', '내슈빌', '태상황제', '카슈', '마르쿠스', '비자나무', '카리브해', '외재', '카도르나', '사브', '북사태', '비토리오', '마루노우치', '크래커', '덩굴무늬', '바빈스키', '조세핀', '마케도니아', '랠스톤', '승자총통', '티사', '김종수', '파이크', '일장기', '키토', '도스토옙스키', '네빌', '전안', '윤원형', '장덕수', '오카야마', '오하', '수초', '펠라기우스', '지저스', '슬레이드', '지온', '우루시올', '헬반도', '박승환', '게오르크', '서직', '유한성', '금태', '요괴', '절검', '옐친', '마무', '테오발드', '헬레니즘', '레이프', '개천군', '징강산', '로렌초데메디치', '게르마니아', '겨드랑', '프로메테우스', '하드리아누스', '투발', '남베트남', '향원', '노엘클라크', '켈트', '드네그리', '매개념', '보우', '프린스턴', '알비노', '그로만', '파타', '몽세', '가극단', '프레쉬', '야구부', '분비샘', '그리그', '공병', '실색', '누진세', '양집', '이노하라', '갑각류', '데프레', '종년', '플뢰레', '분의', '흑설탕', '벨라스케스', '알마', '치세', '아고게', '마에하라세이지', '몬트', '바주', '박중양', '라인란트팔츠', '히사카', '돈둡왕첸', '캔자스', '야주강', '가쓰라', '윗치', '다리속곳', '파비안', '그레브너', '쇼헤이', '황금어장', '테세우스', '각황전', '해럴드', '츠빙글리', '탑신', '최독견', '서곡', '이시노요코', '에케르트', '셀레우키아', '자바리', '히지리', '장클로드뒤발리에', '도오루', '탁자식', '주나라', '대한문', '오디세우스', '키치너', '티센크루프', '로젠바움', '족문', '족인', '레셉', '리바이', '레꾸이돈', '뇌일혈', '수녀원', '에도말', '클레오파트라', '총칙', '와자', '토시', '노은면', '리세', '상사병', '토르토사', '유크', '직립', '레이나', '국무원', '백범일지', '윤병구', '마이클무어', '모루', '코스텔', '윌리엄모리스', '시메', '만자문', '심인', '플루타르크', '시모노세키', '왕진', '위켓', '스파이스', '왕세제', '법의', '자유민주당', '캄펜', '망주석', '승정원일기', '섬모', '하반', '마인츠', '천다오밍', '레드삭스', '애너', '요아힘', '클라인', '무르시', '멜랑콜리', '아이다', '아도니스', '독립채산제', '후지타', '연화리', '보르그', '평방', '헤스', '이원계', '한일공동선언', '가릉빈가', '유독성', '석영', '포위전', '뉴펀들랜드섬', '카르멜', '련지', '흑사병', '몽수', '알렉산드르', '대전차포', '뉘른베르크', '비잔티움', '황가', '프리드', '미켈레', '수병', '파르네', '요아스', '인구조사국', '조영관', '진기리', '페다인', '시아파', '캐시디', '율리아누스', '주영걸', '개군', '프리츠', '아노', '망명객', '미라클', '주단', '야왕', '연방군', '로스섬', '하이네만', '동탁', '리비에르', '화엄사', '이태준', '갈릴레오', '강습소', '속기', '탈라', '논고', '개괄', '제차', '총일', '정체불명', '오시마', '로널드레이건', '베니그노', '얄마르', '로린', '참호', '하르', '아스티', '서재창', '카스카베', '정육면체', '김시곤', '화흡', '갈리아', '반디', '헨리포드', '마호메트', '신무신론', '해밀턴', '마두로', '착의', '현삼', '이영희', '잡귀', '푸트', '리첼', '오이와', '누대', '수서역', '아랫부분', '유로파', '부베', '가고시마', '탄두르', '포르투갈어', '맥동', '로마누스', '이왕직', '전청', '물채', '해리성', '눈구멍', '전차대', '박갑동', '당태', '일진회', '팔목', '레이다', '부민', '레프', '웨트', '단공', '호한', '여호람', '라부아지에', '파인스', '히말라야삼목', '훈춘', '모용수', '동락리', '기번', '내부투쟁', '최루탄', '은의', '선거철', '에클레르', '원씨', '곡예사', '느림보', '아랍제국', '체로키족', '키케로', '얼스', '타이타닉', '병인박해', '키루스', '래그', '벤쿠버', '로웰', '빌리파이퍼', '단양군', '화살표', '네나', '제군', '회성', '와그너', '로엡', '수류탄', '노르만족', '한동굴', '아트레우스', '고승천', '드니', '차바퀴', '시사기획', '마사토끼', '낙소스', '신노스케', '최유리', '콧구멍', '오툉', '클레오메네스', '미란', '레나페', '글라우', '아덴', '계승자', '레이아', '바빌로니아', '아키텍처', '저개발국', '루뭄바', '포켓몬스터', '세이버', '톨프', '노박조코비치', '보릿고개', '스프링스', '도미노피자', '보원', '색슨족', '나구모', '암말', '후스', '알베르트', '아우구스토피노체트', '왕우', '옐레나', '그리고리', '펠로폰네소스', '스타스', '카메룬', '아돌프히틀러', '장택상', '히메', '파이트', '송현동', '가시두더지', '슴베', '콘스탄스', '프로방스', '유칼립투스', '핑거스타일', '총대주교', '바그다드', '라미스', '자유의지', '샹플랭', '밧지', '르노르망', '시모무라', '모리스라벨', '목각', '토큰', '송기중', '세필', '아데오다토', '복호', '테르미도르', '마손', '하이퍼토크', '외손녀', '문맹', '회진', '아마루', '대한매일신보', '아칸소주', '베르나르도', '가이우스', '빙엄', '김훈', '펜실베이니아주', '콘스탄티노', '에라스무스', '보리스존슨', '니시자키', '나한', '계손', '몬트리올', '라쇼', '키프', '그리피스', '층승', '안티고노스', '세브르', '인도네시아어', '허버트', '사파', '스카를라티', '진강', '남가주', '창조물', '변희재', '포알', '헨드', '이규광', '프레드릭', '잠재의식', '나훈아', '버레', '굴리엘모', '드웨어', '조선공산당', '레오바', '튜더', '델포이', '콘스탄티노플', '학부협판', '단테', '공국', '카산드라', '권계면', '김마리아', '이철수', '마황', '그라시아', '파토', '장호원', '성철', '규산염', '마수드', '이윤의', '골분', '유리잔', '테오도로', '인티파다', '다이애나', '오반', '배액', '디프테리아', '석조', '이준용', '와쿠이히데아키', '공왕', '네이팜탄', '레위', '니콜라이고골리', '반나', '오이네우스', '조영숙', '린다', '미쓰히데', '현감', '드리스', '트바쉬타', '로키', '스칸디나비아', '노르망디', '국원', '페트로그라드', '리에주', '일본재단', '바둑판', '야삭', '타흐신', '마레', '건담', '울라', '클라리넷', '돌탑', '대대장', '모스맨', '라젠드라', '제논', '고리키', '고문치사', '견의', '구레', '언어학자', '아이톨리아', '롤플레잉', '히파르코스', '베리샤', '포유류', '직각자자리', '제호', '월고', '라레이', '흰옷', '베네딕토', '마사아키', '하이파이', '와이오밍', '집정관', '로빈스', '하지현', '베름란드', '마이클스', '브래드스트리트', '세인트존', '조영달', '촐라', '브르타뉴', '정유재란', '엔기', '맬컴', '앙리뒤낭', '디펜베이커', '바하', '다국적군', '윤덕원', '언더우드', '헨델', '시르', '합동참모본부', '네브래스카', '화산암', '노하라', '청교도', '이나스', '카라콜', '백산', '조사원', '라심', '레우', '케르', '예카테리나', '발루아', '사피엔스', '감마선', '키다', '척력', '긴테쓰', '벤자민', '스테판', '티레니아해', '여분', '신계륜', '연태조', '수마트라섬', '맹인', '근우회', '나크', '북인', '안라', '투팍', '상피세포', '남만주', '밀약', '김효재', '가리발디', '산비탈', '옥동', '에이타', '크란', '게즈']\n"
     ]
    }
   ],
   "source": [
    "file_path = \"/opt/ml/input/level2_nlp_mrc-nlp-03-1/code/retriever/new_vocab.txt\"\n",
    "\n",
    "# 텍스트 파일에서 내용을 읽어 리스트로 추출\n",
    "with open(file_path, \"r\") as file:\n",
    "    string_list = file.readlines()\n",
    "# 각 문장에서 줄 바꿈 문자(\\n) 제거하기\n",
    "string_list = string_list[0].split()\n",
    "\n",
    "print(string_list)\n"
   ]
  },
  {
   "attachments": {},
   "cell_type": "markdown",
   "metadata": {},
   "source": [
    "---"
   ]
  },
  {
   "cell_type": "code",
   "execution_count": 66,
   "metadata": {},
   "outputs": [],
   "source": [
    "answer_n = []\n",
    "for n in nouns:\n",
    "    answer_n.extend(n)\n",
    "\n",
    "answer_n = list(set(answer_n))\n",
    "len(answer_n)\n",
    "\n",
    "# load tokenizer vocab\n",
    "f = open(\"./vocab.txt\", 'r')\n",
    "lines = f.readlines()\n",
    "vocab = []\n",
    "for line in lines:\n",
    "    line = line.strip()  # 줄 끝의 줄 바꿈 문자를 제거한다.\n",
    "    vocab.append(line)\n",
    "f.close()\n",
    "add_noun = []\n",
    "for noun in answer_n: \n",
    "    if noun not in vocab: \n",
    "        add_noun.append(noun)"
   ]
  },
  {
   "cell_type": "code",
   "execution_count": 67,
   "metadata": {},
   "outputs": [
    {
     "name": "stdout",
     "output_type": "stream",
     "text": [
      "1843\n"
     ]
    }
   ],
   "source": [
    "print(len(add_noun))\n",
    "\n",
    "# 텍스트 파일 경로 및 이름 지정\n",
    "file_path = \"./new_vocab.txt\"\n",
    "\n",
    "# 리스트의 문장을 텍스트 파일에 저장\n",
    "with open(file_path, \"w\") as file:\n",
    "    file.write(\" \".join(add_noun))\n"
   ]
  }
 ],
 "metadata": {
  "kernelspec": {
   "display_name": "mrc",
   "language": "python",
   "name": "python3"
  },
  "language_info": {
   "codemirror_mode": {
    "name": "ipython",
    "version": 3
   },
   "file_extension": ".py",
   "mimetype": "text/x-python",
   "name": "python",
   "nbconvert_exporter": "python",
   "pygments_lexer": "ipython3",
   "version": "3.10.11"
  },
  "orig_nbformat": 4
 },
 "nbformat": 4,
 "nbformat_minor": 2
}
